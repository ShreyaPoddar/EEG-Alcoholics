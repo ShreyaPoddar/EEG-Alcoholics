{
 "cells": [
  {
   "cell_type": "code",
   "execution_count": 1,
   "metadata": {},
   "outputs": [],
   "source": [
    "import numpy as np\n",
    "import pandas as pd\n",
    "from tqdm import tqdm\n",
    "import os\n",
    "from glob import glob\n",
    "import seaborn as sns\n",
    "import  matplotlib.pyplot as plt"
   ]
  },
  {
   "cell_type": "code",
   "execution_count": 89,
   "metadata": {},
   "outputs": [],
   "source": [
    "# import warnings filter\n",
    "from warnings import simplefilter\n",
    "# ignore all future warnings\n",
    "simplefilter(action='ignore', category=FutureWarning)"
   ]
  },
  {
   "cell_type": "markdown",
   "metadata": {},
   "source": [
    "### IMPORTING THE TRAINING DATA"
   ]
  },
  {
   "cell_type": "code",
   "execution_count": 2,
   "metadata": {},
   "outputs": [
    {
     "name": "stderr",
     "output_type": "stream",
     "text": [
      "100%|████████████████████████████████████████████████████████████████████████████████| 468/468 [07:15<00:00,  1.76s/it]\n"
     ]
    }
   ],
   "source": [
    "filenames_list = os.listdir('C:/Users/Dell/Desktop/EEG_Alcoholics/SMNI_CMI_TRAIN/Train/')\n",
    "\n",
    "Data = pd.DataFrame({})\n",
    "for file_names in tqdm(filenames_list):\n",
    "    temp_df = pd.read_csv('C:/Users/Dell/Desktop/EEG_Alcoholics/SMNI_CMI_TRAIN/Train/' + file_names)\n",
    "    Data = Data.append(temp_df)"
   ]
  },
  {
   "cell_type": "markdown",
   "metadata": {},
   "source": [
    "### IMPORTING THE TEST DATA"
   ]
  },
  {
   "cell_type": "code",
   "execution_count": 3,
   "metadata": {},
   "outputs": [
    {
     "name": "stderr",
     "output_type": "stream",
     "text": [
      "100%|████████████████████████████████████████████████████████████████████████████████| 480/480 [07:59<00:00,  1.80s/it]\n"
     ]
    }
   ],
   "source": [
    "filenames_list1 = os.listdir('C:/Users/Dell/Desktop/EEG_Alcoholics/SMNI_CMI_TEST/Test/')\n",
    "\n",
    "Data1 = pd.DataFrame({})\n",
    "for file_names1 in tqdm(filenames_list1):\n",
    "    temp_df1 = pd.read_csv('C:/Users/Dell/Desktop/EEG_Alcoholics/SMNI_CMI_TEST/Test/' + file_names1)\n",
    "    Data1 = Data1.append(temp_df1)"
   ]
  },
  {
   "cell_type": "code",
   "execution_count": 4,
   "metadata": {},
   "outputs": [],
   "source": [
    "Data2=Data\n",
    "Data3=Data1"
   ]
  },
  {
   "cell_type": "markdown",
   "metadata": {},
   "source": [
    "### EXPLORING AND CLEANING THE TRAINING DATA"
   ]
  },
  {
   "cell_type": "code",
   "execution_count": 5,
   "metadata": {},
   "outputs": [
    {
     "name": "stdout",
     "output_type": "stream",
     "text": [
      "<class 'pandas.core.frame.DataFrame'>\n",
      "Int64Index: 7667712 entries, 0 to 16383\n",
      "Data columns (total 10 columns):\n",
      "Unnamed: 0            int64\n",
      "trial number          int64\n",
      "sensor position       object\n",
      "sample num            int64\n",
      "sensor value          float64\n",
      "subject identifier    object\n",
      "matching condition    object\n",
      "channel               int64\n",
      "name                  object\n",
      "time                  float64\n",
      "dtypes: float64(2), int64(4), object(4)\n",
      "memory usage: 643.5+ MB\n"
     ]
    }
   ],
   "source": [
    "Data.info()"
   ]
  },
  {
   "cell_type": "code",
   "execution_count": 20,
   "metadata": {},
   "outputs": [
    {
     "data": {
      "text/html": [
       "<div>\n",
       "<style scoped>\n",
       "    .dataframe tbody tr th:only-of-type {\n",
       "        vertical-align: middle;\n",
       "    }\n",
       "\n",
       "    .dataframe tbody tr th {\n",
       "        vertical-align: top;\n",
       "    }\n",
       "\n",
       "    .dataframe thead th {\n",
       "        text-align: right;\n",
       "    }\n",
       "</style>\n",
       "<table border=\"1\" class=\"dataframe\">\n",
       "  <thead>\n",
       "    <tr style=\"text-align: right;\">\n",
       "      <th></th>\n",
       "      <th>Unnamed: 0</th>\n",
       "      <th>trial number</th>\n",
       "      <th>sensor position</th>\n",
       "      <th>sample num</th>\n",
       "      <th>sensor value</th>\n",
       "      <th>subject identifier</th>\n",
       "      <th>matching condition</th>\n",
       "      <th>channel</th>\n",
       "      <th>name</th>\n",
       "      <th>time</th>\n",
       "    </tr>\n",
       "  </thead>\n",
       "  <tbody>\n",
       "    <tr>\n",
       "      <th>0</th>\n",
       "      <td>5</td>\n",
       "      <td>0</td>\n",
       "      <td>34</td>\n",
       "      <td>0</td>\n",
       "      <td>-8.921</td>\n",
       "      <td>0</td>\n",
       "      <td>0</td>\n",
       "      <td>0</td>\n",
       "      <td>0</td>\n",
       "      <td>0.000000</td>\n",
       "    </tr>\n",
       "    <tr>\n",
       "      <th>1</th>\n",
       "      <td>6</td>\n",
       "      <td>0</td>\n",
       "      <td>34</td>\n",
       "      <td>1</td>\n",
       "      <td>-8.433</td>\n",
       "      <td>0</td>\n",
       "      <td>0</td>\n",
       "      <td>0</td>\n",
       "      <td>0</td>\n",
       "      <td>0.003906</td>\n",
       "    </tr>\n",
       "    <tr>\n",
       "      <th>2</th>\n",
       "      <td>7</td>\n",
       "      <td>0</td>\n",
       "      <td>34</td>\n",
       "      <td>2</td>\n",
       "      <td>-2.574</td>\n",
       "      <td>0</td>\n",
       "      <td>0</td>\n",
       "      <td>0</td>\n",
       "      <td>0</td>\n",
       "      <td>0.007812</td>\n",
       "    </tr>\n",
       "    <tr>\n",
       "      <th>3</th>\n",
       "      <td>8</td>\n",
       "      <td>0</td>\n",
       "      <td>34</td>\n",
       "      <td>3</td>\n",
       "      <td>5.239</td>\n",
       "      <td>0</td>\n",
       "      <td>0</td>\n",
       "      <td>0</td>\n",
       "      <td>0</td>\n",
       "      <td>0.011719</td>\n",
       "    </tr>\n",
       "    <tr>\n",
       "      <th>4</th>\n",
       "      <td>9</td>\n",
       "      <td>0</td>\n",
       "      <td>34</td>\n",
       "      <td>4</td>\n",
       "      <td>11.587</td>\n",
       "      <td>0</td>\n",
       "      <td>0</td>\n",
       "      <td>0</td>\n",
       "      <td>0</td>\n",
       "      <td>0.015625</td>\n",
       "    </tr>\n",
       "  </tbody>\n",
       "</table>\n",
       "</div>"
      ],
      "text/plain": [
       "   Unnamed: 0  trial number  sensor position  sample num  sensor value  \\\n",
       "0           5             0               34           0        -8.921   \n",
       "1           6             0               34           1        -8.433   \n",
       "2           7             0               34           2        -2.574   \n",
       "3           8             0               34           3         5.239   \n",
       "4           9             0               34           4        11.587   \n",
       "\n",
       "   subject identifier  matching condition  channel  name      time  \n",
       "0                   0                   0        0     0  0.000000  \n",
       "1                   0                   0        0     0  0.003906  \n",
       "2                   0                   0        0     0  0.007812  \n",
       "3                   0                   0        0     0  0.011719  \n",
       "4                   0                   0        0     0  0.015625  "
      ]
     },
     "execution_count": 20,
     "metadata": {},
     "output_type": "execute_result"
    }
   ],
   "source": [
    "Data2.head()"
   ]
  },
  {
   "cell_type": "code",
   "execution_count": 6,
   "metadata": {},
   "outputs": [
    {
     "data": {
      "text/plain": [
       "array(['FP1', 'FP2', 'F7', 'F8', 'AF1', 'AF2', 'FZ', 'F4', 'F3', 'FC6',\n",
       "       'FC5', 'FC2', 'FC1', 'T8', 'T7', 'CZ', 'C3', 'C4', 'CP5', 'CP6',\n",
       "       'CP1', 'CP2', 'P3', 'P4', 'PZ', 'P8', 'P7', 'PO2', 'PO1', 'O2',\n",
       "       'O1', 'X', 'AF7', 'AF8', 'F5', 'F6', 'FT7', 'FT8', 'FPZ', 'FC4',\n",
       "       'FC3', 'C6', 'C5', 'F2', 'F1', 'TP8', 'TP7', 'AFZ', 'CP3', 'CP4',\n",
       "       'P5', 'P6', 'C1', 'C2', 'PO7', 'PO8', 'FCZ', 'POZ', 'OZ', 'P2',\n",
       "       'P1', 'CPZ', 'nd', 'Y'], dtype=object)"
      ]
     },
     "execution_count": 6,
     "metadata": {},
     "output_type": "execute_result"
    }
   ],
   "source": [
    "Data['sensor position'].unique()"
   ]
  },
  {
   "cell_type": "code",
   "execution_count": 7,
   "metadata": {},
   "outputs": [
    {
     "data": {
      "text/html": [
       "<div>\n",
       "<style scoped>\n",
       "    .dataframe tbody tr th:only-of-type {\n",
       "        vertical-align: middle;\n",
       "    }\n",
       "\n",
       "    .dataframe tbody tr th {\n",
       "        vertical-align: top;\n",
       "    }\n",
       "\n",
       "    .dataframe thead th {\n",
       "        text-align: right;\n",
       "    }\n",
       "</style>\n",
       "<table border=\"1\" class=\"dataframe\">\n",
       "  <thead>\n",
       "    <tr style=\"text-align: right;\">\n",
       "      <th></th>\n",
       "      <th>Unnamed: 0</th>\n",
       "      <th>trial number</th>\n",
       "      <th>sensor position</th>\n",
       "      <th>sample num</th>\n",
       "      <th>sensor value</th>\n",
       "      <th>subject identifier</th>\n",
       "      <th>matching condition</th>\n",
       "      <th>channel</th>\n",
       "      <th>name</th>\n",
       "      <th>time</th>\n",
       "    </tr>\n",
       "  </thead>\n",
       "  <tbody>\n",
       "    <tr>\n",
       "      <th>0</th>\n",
       "      <td>5</td>\n",
       "      <td>0</td>\n",
       "      <td>FP1</td>\n",
       "      <td>0</td>\n",
       "      <td>-8.921</td>\n",
       "      <td>a</td>\n",
       "      <td>S1 obj</td>\n",
       "      <td>0</td>\n",
       "      <td>co2a0000364</td>\n",
       "      <td>0.000000</td>\n",
       "    </tr>\n",
       "    <tr>\n",
       "      <th>1</th>\n",
       "      <td>6</td>\n",
       "      <td>0</td>\n",
       "      <td>FP1</td>\n",
       "      <td>1</td>\n",
       "      <td>-8.433</td>\n",
       "      <td>a</td>\n",
       "      <td>S1 obj</td>\n",
       "      <td>0</td>\n",
       "      <td>co2a0000364</td>\n",
       "      <td>0.003906</td>\n",
       "    </tr>\n",
       "    <tr>\n",
       "      <th>2</th>\n",
       "      <td>7</td>\n",
       "      <td>0</td>\n",
       "      <td>FP1</td>\n",
       "      <td>2</td>\n",
       "      <td>-2.574</td>\n",
       "      <td>a</td>\n",
       "      <td>S1 obj</td>\n",
       "      <td>0</td>\n",
       "      <td>co2a0000364</td>\n",
       "      <td>0.007812</td>\n",
       "    </tr>\n",
       "    <tr>\n",
       "      <th>3</th>\n",
       "      <td>8</td>\n",
       "      <td>0</td>\n",
       "      <td>FP1</td>\n",
       "      <td>3</td>\n",
       "      <td>5.239</td>\n",
       "      <td>a</td>\n",
       "      <td>S1 obj</td>\n",
       "      <td>0</td>\n",
       "      <td>co2a0000364</td>\n",
       "      <td>0.011719</td>\n",
       "    </tr>\n",
       "    <tr>\n",
       "      <th>4</th>\n",
       "      <td>9</td>\n",
       "      <td>0</td>\n",
       "      <td>FP1</td>\n",
       "      <td>4</td>\n",
       "      <td>11.587</td>\n",
       "      <td>a</td>\n",
       "      <td>S1 obj</td>\n",
       "      <td>0</td>\n",
       "      <td>co2a0000364</td>\n",
       "      <td>0.015625</td>\n",
       "    </tr>\n",
       "  </tbody>\n",
       "</table>\n",
       "</div>"
      ],
      "text/plain": [
       "   Unnamed: 0  trial number sensor position  sample num  sensor value  \\\n",
       "0           5             0             FP1           0        -8.921   \n",
       "1           6             0             FP1           1        -8.433   \n",
       "2           7             0             FP1           2        -2.574   \n",
       "3           8             0             FP1           3         5.239   \n",
       "4           9             0             FP1           4        11.587   \n",
       "\n",
       "  subject identifier matching condition  channel         name      time  \n",
       "0                  a             S1 obj        0  co2a0000364  0.000000  \n",
       "1                  a             S1 obj        0  co2a0000364  0.003906  \n",
       "2                  a             S1 obj        0  co2a0000364  0.007812  \n",
       "3                  a             S1 obj        0  co2a0000364  0.011719  \n",
       "4                  a             S1 obj        0  co2a0000364  0.015625  "
      ]
     },
     "execution_count": 7,
     "metadata": {},
     "output_type": "execute_result"
    }
   ],
   "source": [
    "Data.head()"
   ]
  },
  {
   "cell_type": "code",
   "execution_count": 8,
   "metadata": {},
   "outputs": [
    {
     "data": {
      "text/plain": [
       "Unnamed: 0              int64\n",
       "trial number            int64\n",
       "sensor position        object\n",
       "sample num              int64\n",
       "sensor value          float64\n",
       "subject identifier     object\n",
       "matching condition     object\n",
       "channel                 int64\n",
       "name                   object\n",
       "time                  float64\n",
       "dtype: object"
      ]
     },
     "execution_count": 8,
     "metadata": {},
     "output_type": "execute_result"
    }
   ],
   "source": [
    "Data.dtypes"
   ]
  },
  {
   "cell_type": "code",
   "execution_count": 9,
   "metadata": {},
   "outputs": [
    {
     "data": {
      "text/html": [
       "<div>\n",
       "<style scoped>\n",
       "    .dataframe tbody tr th:only-of-type {\n",
       "        vertical-align: middle;\n",
       "    }\n",
       "\n",
       "    .dataframe tbody tr th {\n",
       "        vertical-align: top;\n",
       "    }\n",
       "\n",
       "    .dataframe thead th {\n",
       "        text-align: right;\n",
       "    }\n",
       "</style>\n",
       "<table border=\"1\" class=\"dataframe\">\n",
       "  <thead>\n",
       "    <tr style=\"text-align: right;\">\n",
       "      <th></th>\n",
       "      <th>sensor position</th>\n",
       "      <th>subject identifier</th>\n",
       "      <th>matching condition</th>\n",
       "      <th>name</th>\n",
       "    </tr>\n",
       "  </thead>\n",
       "  <tbody>\n",
       "    <tr>\n",
       "      <th>count</th>\n",
       "      <td>7667712</td>\n",
       "      <td>7667712</td>\n",
       "      <td>7667712</td>\n",
       "      <td>7667712</td>\n",
       "    </tr>\n",
       "    <tr>\n",
       "      <th>unique</th>\n",
       "      <td>64</td>\n",
       "      <td>2</td>\n",
       "      <td>3</td>\n",
       "      <td>16</td>\n",
       "    </tr>\n",
       "    <tr>\n",
       "      <th>top</th>\n",
       "      <td>OZ</td>\n",
       "      <td>a</td>\n",
       "      <td>S1 obj</td>\n",
       "      <td>co2c0000337</td>\n",
       "    </tr>\n",
       "    <tr>\n",
       "      <th>freq</th>\n",
       "      <td>119808</td>\n",
       "      <td>3850240</td>\n",
       "      <td>2621440</td>\n",
       "      <td>491520</td>\n",
       "    </tr>\n",
       "  </tbody>\n",
       "</table>\n",
       "</div>"
      ],
      "text/plain": [
       "       sensor position subject identifier matching condition         name\n",
       "count          7667712            7667712            7667712      7667712\n",
       "unique              64                  2                  3           16\n",
       "top                 OZ                  a             S1 obj  co2c0000337\n",
       "freq            119808            3850240            2621440       491520"
      ]
     },
     "execution_count": 9,
     "metadata": {},
     "output_type": "execute_result"
    }
   ],
   "source": [
    "Data.describe(include=np.object)"
   ]
  },
  {
   "cell_type": "markdown",
   "metadata": {},
   "source": [
    "#### Checking for null values"
   ]
  },
  {
   "cell_type": "code",
   "execution_count": 10,
   "metadata": {},
   "outputs": [
    {
     "data": {
      "text/plain": [
       "False"
      ]
     },
     "execution_count": 10,
     "metadata": {},
     "output_type": "execute_result"
    }
   ],
   "source": [
    "Data.isna().any().any()"
   ]
  },
  {
   "cell_type": "code",
   "execution_count": 11,
   "metadata": {},
   "outputs": [
    {
     "data": {
      "text/plain": [
       "Unnamed: 0            0\n",
       "trial number          0\n",
       "sensor position       0\n",
       "sample num            0\n",
       "sensor value          0\n",
       "subject identifier    0\n",
       "matching condition    0\n",
       "channel               0\n",
       "name                  0\n",
       "time                  0\n",
       "dtype: int64"
      ]
     },
     "execution_count": 11,
     "metadata": {},
     "output_type": "execute_result"
    }
   ],
   "source": [
    "Data.isnull().sum()"
   ]
  },
  {
   "cell_type": "code",
   "execution_count": 12,
   "metadata": {},
   "outputs": [
    {
     "data": {
      "text/plain": [
       "<matplotlib.axes._subplots.AxesSubplot at 0x1f495367518>"
      ]
     },
     "execution_count": 12,
     "metadata": {},
     "output_type": "execute_result"
    },
    {
     "data": {
      "image/png": "[encoded data removed]",
      "text/plain": [
       "<Figure size 432x288 with 1 Axes>"
      ]
     },
     "metadata": {
      "needs_background": "light"
     },
     "output_type": "display_data"
    }
   ],
   "source": [
    "sns.heatmap(Data.isnull(), yticklabels = False, cbar = False, cmap='Greens')\n"
   ]
  },
  {
   "cell_type": "code",
   "execution_count": 13,
   "metadata": {},
   "outputs": [
    {
     "data": {
      "text/plain": [
       "<matplotlib.axes._subplots.AxesSubplot at 0x1f493e42a20>"
      ]
     },
     "execution_count": 13,
     "metadata": {},
     "output_type": "execute_result"
    },
    {
     "data": {
      "image/png": "[encoded data removed]",
      "text/plain": [
       "<Figure size 504x504 with 1 Axes>"
      ]
     },
     "metadata": {
      "needs_background": "light"
     },
     "output_type": "display_data"
    }
   ],
   "source": [
    "plt.figure(figsize=(7,7))\n",
    "sns.barplot(x=Data['subject identifier'].value_counts().index,\n",
    "              y=Data['subject identifier'].value_counts().values)"
   ]
  },
  {
   "cell_type": "code",
   "execution_count": 14,
   "metadata": {},
   "outputs": [
    {
     "data": {
      "text/plain": [
       "<matplotlib.axes._subplots.AxesSubplot at 0x1f49548ff28>"
      ]
     },
     "execution_count": 14,
     "metadata": {},
     "output_type": "execute_result"
    },
    {
     "data": {
      "image/png": "[encoded data removed]",
      "text/plain": [
       "<Figure size 432x288 with 1 Axes>"
      ]
     },
     "metadata": {
      "needs_background": "light"
     },
     "output_type": "display_data"
    }
   ],
   "source": [
    "sns.stripplot(x=\"subject identifier\",y=\"sensor value\",data=Data)"
   ]
  },
  {
   "cell_type": "code",
   "execution_count": 15,
   "metadata": {},
   "outputs": [
    {
     "data": {
      "text/plain": [
       "<matplotlib.axes._subplots.AxesSubplot at 0x1f4954fd828>"
      ]
     },
     "execution_count": 15,
     "metadata": {},
     "output_type": "execute_result"
    },
    {
     "data": {
      "image/png": "[encoded data removed]",
      "text/plain": [
       "<Figure size 432x288 with 1 Axes>"
      ]
     },
     "metadata": {
      "needs_background": "light"
     },
     "output_type": "display_data"
    }
   ],
   "source": [
    "sns.stripplot(x=\"matching condition\",y=\"sensor value\",data=Data,palette=\"ch:s=.25,rot=-.25\")"
   ]
  },
  {
   "cell_type": "code",
   "execution_count": 16,
   "metadata": {},
   "outputs": [
    {
     "data": {
      "text/plain": [
       "Text(0.5, 1.0, 'Alcoholic or Controlled')"
      ]
     },
     "execution_count": 16,
     "metadata": {},
     "output_type": "execute_result"
    },
    {
     "data": {
      "image/png": "[encoded data removed]",
      "text/plain": [
       "<Figure size 432x288 with 1 Axes>"
      ]
     },
     "metadata": {
      "needs_background": "light"
     },
     "output_type": "display_data"
    }
   ],
   "source": [
    "sns.countplot(x='subject identifier',data=Data)\n",
    "plt.title('Alcoholic or Controlled')"
   ]
  },
  {
   "cell_type": "code",
   "execution_count": 17,
   "metadata": {},
   "outputs": [
    {
     "data": {
      "image/png": "[encoded data removed]",
      "text/plain": [
       "<Figure size 432x288 with 1 Axes>"
      ]
     },
     "metadata": {
      "needs_background": "light"
     },
     "output_type": "display_data"
    }
   ],
   "source": [
    "ax=sns.boxplot(x=\"subject identifier\",y=\"sensor value\",data=Data)\n",
    "# plt.ylim(-50,50)"
   ]
  },
  {
   "cell_type": "code",
   "execution_count": 18,
   "metadata": {},
   "outputs": [
    {
     "data": {
      "text/plain": [
       "Text(0.5, 1.0, 'Name and subject identifier')"
      ]
     },
     "execution_count": 18,
     "metadata": {},
     "output_type": "execute_result"
    },
    {
     "data": {
      "image/png": "[encoded data removed]",
      "text/plain": [
       "<Figure size 3600x2160 with 1 Axes>"
      ]
     },
     "metadata": {
      "needs_background": "light"
     },
     "output_type": "display_data"
    }
   ],
   "source": [
    "plt.figure(figsize=(50,30))\n",
    "sns.countplot('name',data=Data,hue='subject identifier',palette=\"Set2\",dodge=True)\n",
    "plt.xticks(rotation=90)\n",
    "plt.xticks(fontsize=40)\n",
    "plt.yticks(fontsize=40)\n",
    "plt.title('Name and subject identifier',fontsize=60)"
   ]
  },
  {
   "cell_type": "code",
   "execution_count": 19,
   "metadata": {},
   "outputs": [
    {
     "data": {
      "text/plain": [
       "Text(0.5, 1.0, 'Name and matching condition')"
      ]
     },
     "execution_count": 19,
     "metadata": {},
     "output_type": "execute_result"
    },
    {
     "data": {
      "image/png": "[encoded data removed]",
      "text/plain": [
       "<Figure size 3600x2160 with 1 Axes>"
      ]
     },
     "metadata": {
      "needs_background": "light"
     },
     "output_type": "display_data"
    }
   ],
   "source": [
    "plt.figure(figsize=(50,30))\n",
    "sns.countplot('matching condition',data=Data,hue='subject identifier',palette=\"Set2\",dodge=True)\n",
    "plt.xticks(fontsize=40)\n",
    "plt.yticks(fontsize=40)\n",
    "plt.title('Name and matching condition',fontsize=60)"
   ]
  },
  {
   "cell_type": "code",
   "execution_count": 20,
   "metadata": {},
   "outputs": [
    {
     "data": {
      "text/plain": [
       "<matplotlib.axes._subplots.AxesSubplot at 0x1f49c697080>"
      ]
     },
     "execution_count": 20,
     "metadata": {},
     "output_type": "execute_result"
    },
    {
     "data": {
      "image/png": "[encoded data removed]",
      "text/plain": [
       "<Figure size 432x288 with 2 Axes>"
      ]
     },
     "metadata": {
      "needs_background": "light"
     },
     "output_type": "display_data"
    }
   ],
   "source": [
    "sns.heatmap(Data.corr())"
   ]
  },
  {
   "cell_type": "code",
   "execution_count": 21,
   "metadata": {},
   "outputs": [
    {
     "data": {
      "text/plain": [
       "<seaborn.axisgrid.PairGrid at 0x1f49c71fef0>"
      ]
     },
     "execution_count": 21,
     "metadata": {},
     "output_type": "execute_result"
    },
    {
     "data": {
      "image/png": "[encoded data removed]",
      "text/plain": [
       "<Figure size 1080x1080 with 42 Axes>"
      ]
     },
     "metadata": {
      "needs_background": "light"
     },
     "output_type": "display_data"
    }
   ],
   "source": [
    "sns.pairplot(Data[:1000])"
   ]
  },
  {
   "cell_type": "code",
   "execution_count": 22,
   "metadata": {},
   "outputs": [
    {
     "data": {
      "text/plain": [
       "(7667712, 10)"
      ]
     },
     "execution_count": 22,
     "metadata": {},
     "output_type": "execute_result"
    }
   ],
   "source": [
    "Data.shape"
   ]
  },
  {
   "cell_type": "code",
   "execution_count": 23,
   "metadata": {},
   "outputs": [
    {
     "data": {
      "text/plain": [
       "<matplotlib.axes._subplots.AxesSubplot at 0x1f4a4a24908>"
      ]
     },
     "execution_count": 23,
     "metadata": {},
     "output_type": "execute_result"
    },
    {
     "data": {
      "image/png": "[encoded data removed]",
      "text/plain": [
       "<Figure size 432x288 with 1 Axes>"
      ]
     },
     "metadata": {
      "needs_background": "light"
     },
     "output_type": "display_data"
    }
   ],
   "source": [
    "sns.boxplot(x=\"sensor position\",y=\"sensor value\", hue=\"sensor position\", data=Data[:1000],palette='ch:s=.25,rot=-.25')"
   ]
  },
  {
   "cell_type": "markdown",
   "metadata": {},
   "source": [
    "### PREPROCESSING OF DATA"
   ]
  },
  {
   "cell_type": "code",
   "execution_count": 5,
   "metadata": {},
   "outputs": [],
   "source": [
    "from sklearn import preprocessing\n",
    "le=preprocessing.LabelEncoder()"
   ]
  },
  {
   "cell_type": "code",
   "execution_count": 6,
   "metadata": {},
   "outputs": [
    {
     "data": {
      "text/html": [
       "<div>\n",
       "<style scoped>\n",
       "    .dataframe tbody tr th:only-of-type {\n",
       "        vertical-align: middle;\n",
       "    }\n",
       "\n",
       "    .dataframe tbody tr th {\n",
       "        vertical-align: top;\n",
       "    }\n",
       "\n",
       "    .dataframe thead th {\n",
       "        text-align: right;\n",
       "    }\n",
       "</style>\n",
       "<table border=\"1\" class=\"dataframe\">\n",
       "  <thead>\n",
       "    <tr style=\"text-align: right;\">\n",
       "      <th></th>\n",
       "      <th>Unnamed: 0</th>\n",
       "      <th>trial number</th>\n",
       "      <th>sensor position</th>\n",
       "      <th>sample num</th>\n",
       "      <th>sensor value</th>\n",
       "      <th>subject identifier</th>\n",
       "      <th>matching condition</th>\n",
       "      <th>channel</th>\n",
       "      <th>name</th>\n",
       "      <th>time</th>\n",
       "    </tr>\n",
       "  </thead>\n",
       "  <tbody>\n",
       "    <tr>\n",
       "      <th>0</th>\n",
       "      <td>5</td>\n",
       "      <td>0</td>\n",
       "      <td>FP1</td>\n",
       "      <td>0</td>\n",
       "      <td>-8.921</td>\n",
       "      <td>a</td>\n",
       "      <td>S1 obj</td>\n",
       "      <td>0</td>\n",
       "      <td>co2a0000364</td>\n",
       "      <td>0.000000</td>\n",
       "    </tr>\n",
       "    <tr>\n",
       "      <th>1</th>\n",
       "      <td>6</td>\n",
       "      <td>0</td>\n",
       "      <td>FP1</td>\n",
       "      <td>1</td>\n",
       "      <td>-8.433</td>\n",
       "      <td>a</td>\n",
       "      <td>S1 obj</td>\n",
       "      <td>0</td>\n",
       "      <td>co2a0000364</td>\n",
       "      <td>0.003906</td>\n",
       "    </tr>\n",
       "    <tr>\n",
       "      <th>2</th>\n",
       "      <td>7</td>\n",
       "      <td>0</td>\n",
       "      <td>FP1</td>\n",
       "      <td>2</td>\n",
       "      <td>-2.574</td>\n",
       "      <td>a</td>\n",
       "      <td>S1 obj</td>\n",
       "      <td>0</td>\n",
       "      <td>co2a0000364</td>\n",
       "      <td>0.007812</td>\n",
       "    </tr>\n",
       "    <tr>\n",
       "      <th>3</th>\n",
       "      <td>8</td>\n",
       "      <td>0</td>\n",
       "      <td>FP1</td>\n",
       "      <td>3</td>\n",
       "      <td>5.239</td>\n",
       "      <td>a</td>\n",
       "      <td>S1 obj</td>\n",
       "      <td>0</td>\n",
       "      <td>co2a0000364</td>\n",
       "      <td>0.011719</td>\n",
       "    </tr>\n",
       "    <tr>\n",
       "      <th>4</th>\n",
       "      <td>9</td>\n",
       "      <td>0</td>\n",
       "      <td>FP1</td>\n",
       "      <td>4</td>\n",
       "      <td>11.587</td>\n",
       "      <td>a</td>\n",
       "      <td>S1 obj</td>\n",
       "      <td>0</td>\n",
       "      <td>co2a0000364</td>\n",
       "      <td>0.015625</td>\n",
       "    </tr>\n",
       "  </tbody>\n",
       "</table>\n",
       "</div>"
      ],
      "text/plain": [
       "   Unnamed: 0  trial number sensor position  sample num  sensor value  \\\n",
       "0           5             0             FP1           0        -8.921   \n",
       "1           6             0             FP1           1        -8.433   \n",
       "2           7             0             FP1           2        -2.574   \n",
       "3           8             0             FP1           3         5.239   \n",
       "4           9             0             FP1           4        11.587   \n",
       "\n",
       "  subject identifier matching condition  channel         name      time  \n",
       "0                  a             S1 obj        0  co2a0000364  0.000000  \n",
       "1                  a             S1 obj        0  co2a0000364  0.003906  \n",
       "2                  a             S1 obj        0  co2a0000364  0.007812  \n",
       "3                  a             S1 obj        0  co2a0000364  0.011719  \n",
       "4                  a             S1 obj        0  co2a0000364  0.015625  "
      ]
     },
     "execution_count": 6,
     "metadata": {},
     "output_type": "execute_result"
    }
   ],
   "source": [
    "Data.head()"
   ]
  },
  {
   "cell_type": "code",
   "execution_count": 7,
   "metadata": {},
   "outputs": [],
   "source": [
    "Data['sensor position'] = le.fit_transform(Data['sensor position'])\n",
    "Data['subject identifier'] = le.fit_transform(Data['subject identifier'])\n",
    "Data['matching condition'] = le.fit_transform(Data['matching condition'])\n",
    "Data['name'] = le.fit_transform(Data['name'])"
   ]
  },
  {
   "cell_type": "code",
   "execution_count": 21,
   "metadata": {},
   "outputs": [],
   "source": [
    "Data=Data2"
   ]
  },
  {
   "cell_type": "code",
   "execution_count": 22,
   "metadata": {},
   "outputs": [
    {
     "data": {
      "text/html": [
       "<div>\n",
       "<style scoped>\n",
       "    .dataframe tbody tr th:only-of-type {\n",
       "        vertical-align: middle;\n",
       "    }\n",
       "\n",
       "    .dataframe tbody tr th {\n",
       "        vertical-align: top;\n",
       "    }\n",
       "\n",
       "    .dataframe thead th {\n",
       "        text-align: right;\n",
       "    }\n",
       "</style>\n",
       "<table border=\"1\" class=\"dataframe\">\n",
       "  <thead>\n",
       "    <tr style=\"text-align: right;\">\n",
       "      <th></th>\n",
       "      <th>Unnamed: 0</th>\n",
       "      <th>trial number</th>\n",
       "      <th>sensor position</th>\n",
       "      <th>sample num</th>\n",
       "      <th>sensor value</th>\n",
       "      <th>subject identifier</th>\n",
       "      <th>matching condition</th>\n",
       "      <th>channel</th>\n",
       "      <th>name</th>\n",
       "      <th>time</th>\n",
       "    </tr>\n",
       "  </thead>\n",
       "  <tbody>\n",
       "    <tr>\n",
       "      <th>0</th>\n",
       "      <td>5</td>\n",
       "      <td>0</td>\n",
       "      <td>34</td>\n",
       "      <td>0</td>\n",
       "      <td>-8.921</td>\n",
       "      <td>0</td>\n",
       "      <td>0</td>\n",
       "      <td>0</td>\n",
       "      <td>0</td>\n",
       "      <td>0.000000</td>\n",
       "    </tr>\n",
       "    <tr>\n",
       "      <th>1</th>\n",
       "      <td>6</td>\n",
       "      <td>0</td>\n",
       "      <td>34</td>\n",
       "      <td>1</td>\n",
       "      <td>-8.433</td>\n",
       "      <td>0</td>\n",
       "      <td>0</td>\n",
       "      <td>0</td>\n",
       "      <td>0</td>\n",
       "      <td>0.003906</td>\n",
       "    </tr>\n",
       "    <tr>\n",
       "      <th>2</th>\n",
       "      <td>7</td>\n",
       "      <td>0</td>\n",
       "      <td>34</td>\n",
       "      <td>2</td>\n",
       "      <td>-2.574</td>\n",
       "      <td>0</td>\n",
       "      <td>0</td>\n",
       "      <td>0</td>\n",
       "      <td>0</td>\n",
       "      <td>0.007812</td>\n",
       "    </tr>\n",
       "    <tr>\n",
       "      <th>3</th>\n",
       "      <td>8</td>\n",
       "      <td>0</td>\n",
       "      <td>34</td>\n",
       "      <td>3</td>\n",
       "      <td>5.239</td>\n",
       "      <td>0</td>\n",
       "      <td>0</td>\n",
       "      <td>0</td>\n",
       "      <td>0</td>\n",
       "      <td>0.011719</td>\n",
       "    </tr>\n",
       "    <tr>\n",
       "      <th>4</th>\n",
       "      <td>9</td>\n",
       "      <td>0</td>\n",
       "      <td>34</td>\n",
       "      <td>4</td>\n",
       "      <td>11.587</td>\n",
       "      <td>0</td>\n",
       "      <td>0</td>\n",
       "      <td>0</td>\n",
       "      <td>0</td>\n",
       "      <td>0.015625</td>\n",
       "    </tr>\n",
       "  </tbody>\n",
       "</table>\n",
       "</div>"
      ],
      "text/plain": [
       "   Unnamed: 0  trial number  sensor position  sample num  sensor value  \\\n",
       "0           5             0               34           0        -8.921   \n",
       "1           6             0               34           1        -8.433   \n",
       "2           7             0               34           2        -2.574   \n",
       "3           8             0               34           3         5.239   \n",
       "4           9             0               34           4        11.587   \n",
       "\n",
       "   subject identifier  matching condition  channel  name      time  \n",
       "0                   0                   0        0     0  0.000000  \n",
       "1                   0                   0        0     0  0.003906  \n",
       "2                   0                   0        0     0  0.007812  \n",
       "3                   0                   0        0     0  0.011719  \n",
       "4                   0                   0        0     0  0.015625  "
      ]
     },
     "execution_count": 22,
     "metadata": {},
     "output_type": "execute_result"
    }
   ],
   "source": [
    "Data.head()"
   ]
  },
  {
   "cell_type": "code",
   "execution_count": 9,
   "metadata": {},
   "outputs": [
    {
     "data": {
      "text/plain": [
       "Unnamed: 0              int64\n",
       "trial number            int64\n",
       "sensor position         int32\n",
       "sample num              int64\n",
       "sensor value          float64\n",
       "subject identifier      int32\n",
       "matching condition      int32\n",
       "channel                 int64\n",
       "name                    int32\n",
       "time                  float64\n",
       "dtype: object"
      ]
     },
     "execution_count": 9,
     "metadata": {},
     "output_type": "execute_result"
    }
   ],
   "source": [
    "Data.dtypes"
   ]
  },
  {
   "cell_type": "code",
   "execution_count": 10,
   "metadata": {},
   "outputs": [
    {
     "data": {
      "text/plain": [
       "<matplotlib.axes._subplots.AxesSubplot at 0x2768008ae80>"
      ]
     },
     "execution_count": 10,
     "metadata": {},
     "output_type": "execute_result"
    },
    {
     "data": {
      "image/png": "[encoded data removed]",
      "text/plain": [
       "<Figure size 432x288 with 2 Axes>"
      ]
     },
     "metadata": {
      "needs_background": "light"
     },
     "output_type": "display_data"
    }
   ],
   "source": [
    "sns.heatmap(Data.corr(), vmin=-1, vmax=1, center= 0, cmap= 'coolwarm', linewidths=1, linecolor='black')\n"
   ]
  },
  {
   "cell_type": "code",
   "execution_count": 11,
   "metadata": {},
   "outputs": [
    {
     "data": {
      "text/html": [
       "<div>\n",
       "<style scoped>\n",
       "    .dataframe tbody tr th:only-of-type {\n",
       "        vertical-align: middle;\n",
       "    }\n",
       "\n",
       "    .dataframe tbody tr th {\n",
       "        vertical-align: top;\n",
       "    }\n",
       "\n",
       "    .dataframe thead th {\n",
       "        text-align: right;\n",
       "    }\n",
       "</style>\n",
       "<table border=\"1\" class=\"dataframe\">\n",
       "  <thead>\n",
       "    <tr style=\"text-align: right;\">\n",
       "      <th></th>\n",
       "      <th>Unnamed: 0</th>\n",
       "      <th>trial number</th>\n",
       "      <th>sensor position</th>\n",
       "      <th>sample num</th>\n",
       "      <th>sensor value</th>\n",
       "      <th>subject identifier</th>\n",
       "      <th>matching condition</th>\n",
       "      <th>channel</th>\n",
       "      <th>name</th>\n",
       "      <th>time</th>\n",
       "    </tr>\n",
       "  </thead>\n",
       "  <tbody>\n",
       "    <tr>\n",
       "      <th>Unnamed: 0</th>\n",
       "      <td>1.000000e+00</td>\n",
       "      <td>-4.509105e-19</td>\n",
       "      <td>2.226379e-01</td>\n",
       "      <td>1.556410e-02</td>\n",
       "      <td>-0.015099</td>\n",
       "      <td>9.507910e-20</td>\n",
       "      <td>-1.547055e-20</td>\n",
       "      <td>9.998789e-01</td>\n",
       "      <td>3.144073e-18</td>\n",
       "      <td>1.556410e-02</td>\n",
       "    </tr>\n",
       "    <tr>\n",
       "      <th>trial number</th>\n",
       "      <td>-4.509105e-19</td>\n",
       "      <td>1.000000e+00</td>\n",
       "      <td>1.670184e-16</td>\n",
       "      <td>9.416923e-19</td>\n",
       "      <td>-0.048453</td>\n",
       "      <td>1.483321e-01</td>\n",
       "      <td>3.275459e-01</td>\n",
       "      <td>-1.381672e-18</td>\n",
       "      <td>2.435288e-02</td>\n",
       "      <td>9.416923e-19</td>\n",
       "    </tr>\n",
       "    <tr>\n",
       "      <th>sensor position</th>\n",
       "      <td>2.226379e-01</td>\n",
       "      <td>1.670184e-16</td>\n",
       "      <td>1.000000e+00</td>\n",
       "      <td>0.000000e+00</td>\n",
       "      <td>-0.065231</td>\n",
       "      <td>2.500356e-15</td>\n",
       "      <td>-6.181190e-15</td>\n",
       "      <td>2.226648e-01</td>\n",
       "      <td>1.394852e-15</td>\n",
       "      <td>0.000000e+00</td>\n",
       "    </tr>\n",
       "    <tr>\n",
       "      <th>sample num</th>\n",
       "      <td>1.556410e-02</td>\n",
       "      <td>9.416923e-19</td>\n",
       "      <td>0.000000e+00</td>\n",
       "      <td>1.000000e+00</td>\n",
       "      <td>-0.059864</td>\n",
       "      <td>1.178719e-21</td>\n",
       "      <td>-8.027997e-22</td>\n",
       "      <td>0.000000e+00</td>\n",
       "      <td>5.339332e-18</td>\n",
       "      <td>1.000000e+00</td>\n",
       "    </tr>\n",
       "    <tr>\n",
       "      <th>sensor value</th>\n",
       "      <td>-1.509891e-02</td>\n",
       "      <td>-4.845298e-02</td>\n",
       "      <td>-6.523135e-02</td>\n",
       "      <td>-5.986415e-02</td>\n",
       "      <td>1.000000</td>\n",
       "      <td>1.316460e-02</td>\n",
       "      <td>-9.009906e-02</td>\n",
       "      <td>-1.416890e-02</td>\n",
       "      <td>2.885555e-02</td>\n",
       "      <td>-5.986415e-02</td>\n",
       "    </tr>\n",
       "    <tr>\n",
       "      <th>subject identifier</th>\n",
       "      <td>9.507910e-20</td>\n",
       "      <td>1.483321e-01</td>\n",
       "      <td>2.500356e-15</td>\n",
       "      <td>1.178719e-21</td>\n",
       "      <td>0.013165</td>\n",
       "      <td>1.000000e+00</td>\n",
       "      <td>-2.754443e-03</td>\n",
       "      <td>1.325834e-19</td>\n",
       "      <td>8.663313e-01</td>\n",
       "      <td>1.178719e-21</td>\n",
       "    </tr>\n",
       "    <tr>\n",
       "      <th>matching condition</th>\n",
       "      <td>-1.547055e-20</td>\n",
       "      <td>3.275459e-01</td>\n",
       "      <td>-6.181190e-15</td>\n",
       "      <td>-8.027997e-22</td>\n",
       "      <td>-0.090099</td>\n",
       "      <td>-2.754443e-03</td>\n",
       "      <td>1.000000e+00</td>\n",
       "      <td>-1.917669e-17</td>\n",
       "      <td>-6.777738e-03</td>\n",
       "      <td>-8.027997e-22</td>\n",
       "    </tr>\n",
       "    <tr>\n",
       "      <th>channel</th>\n",
       "      <td>9.998789e-01</td>\n",
       "      <td>-1.381672e-18</td>\n",
       "      <td>2.226648e-01</td>\n",
       "      <td>0.000000e+00</td>\n",
       "      <td>-0.014169</td>\n",
       "      <td>1.325834e-19</td>\n",
       "      <td>-1.917669e-17</td>\n",
       "      <td>1.000000e+00</td>\n",
       "      <td>3.380477e-19</td>\n",
       "      <td>0.000000e+00</td>\n",
       "    </tr>\n",
       "    <tr>\n",
       "      <th>name</th>\n",
       "      <td>3.144073e-18</td>\n",
       "      <td>2.435288e-02</td>\n",
       "      <td>1.394852e-15</td>\n",
       "      <td>5.339332e-18</td>\n",
       "      <td>0.028856</td>\n",
       "      <td>8.663313e-01</td>\n",
       "      <td>-6.777738e-03</td>\n",
       "      <td>3.380477e-19</td>\n",
       "      <td>1.000000e+00</td>\n",
       "      <td>5.339332e-18</td>\n",
       "    </tr>\n",
       "    <tr>\n",
       "      <th>time</th>\n",
       "      <td>1.556410e-02</td>\n",
       "      <td>9.416923e-19</td>\n",
       "      <td>0.000000e+00</td>\n",
       "      <td>1.000000e+00</td>\n",
       "      <td>-0.059864</td>\n",
       "      <td>1.178719e-21</td>\n",
       "      <td>-8.027997e-22</td>\n",
       "      <td>0.000000e+00</td>\n",
       "      <td>5.339332e-18</td>\n",
       "      <td>1.000000e+00</td>\n",
       "    </tr>\n",
       "  </tbody>\n",
       "</table>\n",
       "</div>"
      ],
      "text/plain": [
       "                      Unnamed: 0  trial number  sensor position    sample num  \\\n",
       "Unnamed: 0          1.000000e+00 -4.509105e-19     2.226379e-01  1.556410e-02   \n",
       "trial number       -4.509105e-19  1.000000e+00     1.670184e-16  9.416923e-19   \n",
       "sensor position     2.226379e-01  1.670184e-16     1.000000e+00  0.000000e+00   \n",
       "sample num          1.556410e-02  9.416923e-19     0.000000e+00  1.000000e+00   \n",
       "sensor value       -1.509891e-02 -4.845298e-02    -6.523135e-02 -5.986415e-02   \n",
       "subject identifier  9.507910e-20  1.483321e-01     2.500356e-15  1.178719e-21   \n",
       "matching condition -1.547055e-20  3.275459e-01    -6.181190e-15 -8.027997e-22   \n",
       "channel             9.998789e-01 -1.381672e-18     2.226648e-01  0.000000e+00   \n",
       "name                3.144073e-18  2.435288e-02     1.394852e-15  5.339332e-18   \n",
       "time                1.556410e-02  9.416923e-19     0.000000e+00  1.000000e+00   \n",
       "\n",
       "                    sensor value  subject identifier  matching condition  \\\n",
       "Unnamed: 0             -0.015099        9.507910e-20       -1.547055e-20   \n",
       "trial number           -0.048453        1.483321e-01        3.275459e-01   \n",
       "sensor position        -0.065231        2.500356e-15       -6.181190e-15   \n",
       "sample num             -0.059864        1.178719e-21       -8.027997e-22   \n",
       "sensor value            1.000000        1.316460e-02       -9.009906e-02   \n",
       "subject identifier      0.013165        1.000000e+00       -2.754443e-03   \n",
       "matching condition     -0.090099       -2.754443e-03        1.000000e+00   \n",
       "channel                -0.014169        1.325834e-19       -1.917669e-17   \n",
       "name                    0.028856        8.663313e-01       -6.777738e-03   \n",
       "time                   -0.059864        1.178719e-21       -8.027997e-22   \n",
       "\n",
       "                         channel          name          time  \n",
       "Unnamed: 0          9.998789e-01  3.144073e-18  1.556410e-02  \n",
       "trial number       -1.381672e-18  2.435288e-02  9.416923e-19  \n",
       "sensor position     2.226648e-01  1.394852e-15  0.000000e+00  \n",
       "sample num          0.000000e+00  5.339332e-18  1.000000e+00  \n",
       "sensor value       -1.416890e-02  2.885555e-02 -5.986415e-02  \n",
       "subject identifier  1.325834e-19  8.663313e-01  1.178719e-21  \n",
       "matching condition -1.917669e-17 -6.777738e-03 -8.027997e-22  \n",
       "channel             1.000000e+00  3.380477e-19  0.000000e+00  \n",
       "name                3.380477e-19  1.000000e+00  5.339332e-18  \n",
       "time                0.000000e+00  5.339332e-18  1.000000e+00  "
      ]
     },
     "execution_count": 11,
     "metadata": {},
     "output_type": "execute_result"
    }
   ],
   "source": [
    "Data.corr()"
   ]
  },
  {
   "cell_type": "code",
   "execution_count": 12,
   "metadata": {},
   "outputs": [
    {
     "data": {
      "text/html": [
       "<div>\n",
       "<style scoped>\n",
       "    .dataframe tbody tr th:only-of-type {\n",
       "        vertical-align: middle;\n",
       "    }\n",
       "\n",
       "    .dataframe tbody tr th {\n",
       "        vertical-align: top;\n",
       "    }\n",
       "\n",
       "    .dataframe thead th {\n",
       "        text-align: right;\n",
       "    }\n",
       "</style>\n",
       "<table border=\"1\" class=\"dataframe\">\n",
       "  <thead>\n",
       "    <tr style=\"text-align: right;\">\n",
       "      <th></th>\n",
       "      <th>Unnamed: 0</th>\n",
       "      <th>trial number</th>\n",
       "      <th>sensor position</th>\n",
       "      <th>sample num</th>\n",
       "      <th>sensor value</th>\n",
       "      <th>subject identifier</th>\n",
       "      <th>matching condition</th>\n",
       "      <th>channel</th>\n",
       "      <th>name</th>\n",
       "      <th>time</th>\n",
       "    </tr>\n",
       "  </thead>\n",
       "  <tbody>\n",
       "    <tr>\n",
       "      <th>0</th>\n",
       "      <td>5</td>\n",
       "      <td>30</td>\n",
       "      <td>FP1</td>\n",
       "      <td>0</td>\n",
       "      <td>-3.550</td>\n",
       "      <td>a</td>\n",
       "      <td>S1 obj</td>\n",
       "      <td>0</td>\n",
       "      <td>co2a0000364</td>\n",
       "      <td>0.000000</td>\n",
       "    </tr>\n",
       "    <tr>\n",
       "      <th>1</th>\n",
       "      <td>6</td>\n",
       "      <td>30</td>\n",
       "      <td>FP1</td>\n",
       "      <td>1</td>\n",
       "      <td>-5.015</td>\n",
       "      <td>a</td>\n",
       "      <td>S1 obj</td>\n",
       "      <td>0</td>\n",
       "      <td>co2a0000364</td>\n",
       "      <td>0.003906</td>\n",
       "    </tr>\n",
       "    <tr>\n",
       "      <th>2</th>\n",
       "      <td>7</td>\n",
       "      <td>30</td>\n",
       "      <td>FP1</td>\n",
       "      <td>2</td>\n",
       "      <td>-5.503</td>\n",
       "      <td>a</td>\n",
       "      <td>S1 obj</td>\n",
       "      <td>0</td>\n",
       "      <td>co2a0000364</td>\n",
       "      <td>0.007812</td>\n",
       "    </tr>\n",
       "    <tr>\n",
       "      <th>3</th>\n",
       "      <td>8</td>\n",
       "      <td>30</td>\n",
       "      <td>FP1</td>\n",
       "      <td>3</td>\n",
       "      <td>-3.550</td>\n",
       "      <td>a</td>\n",
       "      <td>S1 obj</td>\n",
       "      <td>0</td>\n",
       "      <td>co2a0000364</td>\n",
       "      <td>0.011719</td>\n",
       "    </tr>\n",
       "    <tr>\n",
       "      <th>4</th>\n",
       "      <td>9</td>\n",
       "      <td>30</td>\n",
       "      <td>FP1</td>\n",
       "      <td>4</td>\n",
       "      <td>-0.621</td>\n",
       "      <td>a</td>\n",
       "      <td>S1 obj</td>\n",
       "      <td>0</td>\n",
       "      <td>co2a0000364</td>\n",
       "      <td>0.015625</td>\n",
       "    </tr>\n",
       "  </tbody>\n",
       "</table>\n",
       "</div>"
      ],
      "text/plain": [
       "   Unnamed: 0  trial number sensor position  sample num  sensor value  \\\n",
       "0           5            30             FP1           0        -3.550   \n",
       "1           6            30             FP1           1        -5.015   \n",
       "2           7            30             FP1           2        -5.503   \n",
       "3           8            30             FP1           3        -3.550   \n",
       "4           9            30             FP1           4        -0.621   \n",
       "\n",
       "  subject identifier matching condition  channel         name      time  \n",
       "0                  a             S1 obj        0  co2a0000364  0.000000  \n",
       "1                  a             S1 obj        0  co2a0000364  0.003906  \n",
       "2                  a             S1 obj        0  co2a0000364  0.007812  \n",
       "3                  a             S1 obj        0  co2a0000364  0.011719  \n",
       "4                  a             S1 obj        0  co2a0000364  0.015625  "
      ]
     },
     "execution_count": 12,
     "metadata": {},
     "output_type": "execute_result"
    }
   ],
   "source": [
    "Data1.head()"
   ]
  },
  {
   "cell_type": "code",
   "execution_count": 13,
   "metadata": {},
   "outputs": [],
   "source": [
    "Data1['sensor position'] = le.fit_transform(Data1['sensor position'])\n",
    "Data1['subject identifier'] = le.fit_transform(Data1['subject identifier'])\n",
    "Data1['matching condition'] = le.fit_transform(Data1['matching condition'])\n",
    "Data1['name'] = le.fit_transform(Data1['name'])"
   ]
  },
  {
   "cell_type": "markdown",
   "metadata": {},
   "source": [
    "### GROUPING THE DATASETS WRT TO TRIAL NUMBER"
   ]
  },
  {
   "cell_type": "code",
   "execution_count": 23,
   "metadata": {},
   "outputs": [],
   "source": [
    "Data_train=Data.groupby('trial number')"
   ]
  },
  {
   "cell_type": "code",
   "execution_count": 24,
   "metadata": {},
   "outputs": [],
   "source": [
    "Data_train = Data_train.mean()"
   ]
  },
  {
   "cell_type": "code",
   "execution_count": 25,
   "metadata": {},
   "outputs": [
    {
     "data": {
      "text/html": [
       "<div>\n",
       "<style scoped>\n",
       "    .dataframe tbody tr th:only-of-type {\n",
       "        vertical-align: middle;\n",
       "    }\n",
       "\n",
       "    .dataframe tbody tr th {\n",
       "        vertical-align: top;\n",
       "    }\n",
       "\n",
       "    .dataframe thead th {\n",
       "        text-align: right;\n",
       "    }\n",
       "</style>\n",
       "<table border=\"1\" class=\"dataframe\">\n",
       "  <thead>\n",
       "    <tr style=\"text-align: right;\">\n",
       "      <th></th>\n",
       "      <th>Unnamed: 0</th>\n",
       "      <th>sensor position</th>\n",
       "      <th>sample num</th>\n",
       "      <th>sensor value</th>\n",
       "      <th>subject identifier</th>\n",
       "      <th>matching condition</th>\n",
       "      <th>channel</th>\n",
       "      <th>name</th>\n",
       "      <th>time</th>\n",
       "    </tr>\n",
       "    <tr>\n",
       "      <th>trial number</th>\n",
       "      <th></th>\n",
       "      <th></th>\n",
       "      <th></th>\n",
       "      <th></th>\n",
       "      <th></th>\n",
       "      <th></th>\n",
       "      <th></th>\n",
       "      <th></th>\n",
       "      <th></th>\n",
       "    </tr>\n",
       "  </thead>\n",
       "  <tbody>\n",
       "    <tr>\n",
       "      <th>0</th>\n",
       "      <td>8228.0</td>\n",
       "      <td>31.5</td>\n",
       "      <td>127.5</td>\n",
       "      <td>-0.783420</td>\n",
       "      <td>0.500000</td>\n",
       "      <td>0.0</td>\n",
       "      <td>31.5</td>\n",
       "      <td>7.571429</td>\n",
       "      <td>0.498047</td>\n",
       "    </tr>\n",
       "    <tr>\n",
       "      <th>2</th>\n",
       "      <td>8228.0</td>\n",
       "      <td>31.5</td>\n",
       "      <td>127.5</td>\n",
       "      <td>-0.476310</td>\n",
       "      <td>0.454545</td>\n",
       "      <td>0.0</td>\n",
       "      <td>31.5</td>\n",
       "      <td>6.909091</td>\n",
       "      <td>0.498047</td>\n",
       "    </tr>\n",
       "    <tr>\n",
       "      <th>3</th>\n",
       "      <td>8228.0</td>\n",
       "      <td>31.5</td>\n",
       "      <td>127.5</td>\n",
       "      <td>-3.831912</td>\n",
       "      <td>0.545455</td>\n",
       "      <td>1.0</td>\n",
       "      <td>31.5</td>\n",
       "      <td>8.818182</td>\n",
       "      <td>0.498047</td>\n",
       "    </tr>\n",
       "    <tr>\n",
       "      <th>4</th>\n",
       "      <td>8228.0</td>\n",
       "      <td>31.5</td>\n",
       "      <td>127.5</td>\n",
       "      <td>-0.359001</td>\n",
       "      <td>0.454545</td>\n",
       "      <td>0.0</td>\n",
       "      <td>31.5</td>\n",
       "      <td>7.454545</td>\n",
       "      <td>0.498047</td>\n",
       "    </tr>\n",
       "    <tr>\n",
       "      <th>5</th>\n",
       "      <td>8228.0</td>\n",
       "      <td>31.5</td>\n",
       "      <td>127.5</td>\n",
       "      <td>-2.100669</td>\n",
       "      <td>0.538462</td>\n",
       "      <td>2.0</td>\n",
       "      <td>31.5</td>\n",
       "      <td>8.384615</td>\n",
       "      <td>0.498047</td>\n",
       "    </tr>\n",
       "  </tbody>\n",
       "</table>\n",
       "</div>"
      ],
      "text/plain": [
       "              Unnamed: 0  sensor position  sample num  sensor value  \\\n",
       "trial number                                                          \n",
       "0                 8228.0             31.5       127.5     -0.783420   \n",
       "2                 8228.0             31.5       127.5     -0.476310   \n",
       "3                 8228.0             31.5       127.5     -3.831912   \n",
       "4                 8228.0             31.5       127.5     -0.359001   \n",
       "5                 8228.0             31.5       127.5     -2.100669   \n",
       "\n",
       "              subject identifier  matching condition  channel      name  \\\n",
       "trial number                                                              \n",
       "0                       0.500000                 0.0     31.5  7.571429   \n",
       "2                       0.454545                 0.0     31.5  6.909091   \n",
       "3                       0.545455                 1.0     31.5  8.818182   \n",
       "4                       0.454545                 0.0     31.5  7.454545   \n",
       "5                       0.538462                 2.0     31.5  8.384615   \n",
       "\n",
       "                  time  \n",
       "trial number            \n",
       "0             0.498047  \n",
       "2             0.498047  \n",
       "3             0.498047  \n",
       "4             0.498047  \n",
       "5             0.498047  "
      ]
     },
     "execution_count": 25,
     "metadata": {},
     "output_type": "execute_result"
    }
   ],
   "source": [
    "Data_train.head()"
   ]
  },
  {
   "cell_type": "code",
   "execution_count": 26,
   "metadata": {},
   "outputs": [],
   "source": [
    "Data_train=Data_train.reset_index()"
   ]
  },
  {
   "cell_type": "code",
   "execution_count": 27,
   "metadata": {},
   "outputs": [
    {
     "data": {
      "text/html": [
       "<div>\n",
       "<style scoped>\n",
       "    .dataframe tbody tr th:only-of-type {\n",
       "        vertical-align: middle;\n",
       "    }\n",
       "\n",
       "    .dataframe tbody tr th {\n",
       "        vertical-align: top;\n",
       "    }\n",
       "\n",
       "    .dataframe thead th {\n",
       "        text-align: right;\n",
       "    }\n",
       "</style>\n",
       "<table border=\"1\" class=\"dataframe\">\n",
       "  <thead>\n",
       "    <tr style=\"text-align: right;\">\n",
       "      <th></th>\n",
       "      <th>trial number</th>\n",
       "      <th>Unnamed: 0</th>\n",
       "      <th>sensor position</th>\n",
       "      <th>sample num</th>\n",
       "      <th>sensor value</th>\n",
       "      <th>subject identifier</th>\n",
       "      <th>matching condition</th>\n",
       "      <th>channel</th>\n",
       "      <th>name</th>\n",
       "      <th>time</th>\n",
       "    </tr>\n",
       "  </thead>\n",
       "  <tbody>\n",
       "    <tr>\n",
       "      <th>0</th>\n",
       "      <td>0</td>\n",
       "      <td>8228.0</td>\n",
       "      <td>31.5</td>\n",
       "      <td>127.5</td>\n",
       "      <td>-0.783420</td>\n",
       "      <td>0.500000</td>\n",
       "      <td>0.0</td>\n",
       "      <td>31.5</td>\n",
       "      <td>7.571429</td>\n",
       "      <td>0.498047</td>\n",
       "    </tr>\n",
       "    <tr>\n",
       "      <th>1</th>\n",
       "      <td>2</td>\n",
       "      <td>8228.0</td>\n",
       "      <td>31.5</td>\n",
       "      <td>127.5</td>\n",
       "      <td>-0.476310</td>\n",
       "      <td>0.454545</td>\n",
       "      <td>0.0</td>\n",
       "      <td>31.5</td>\n",
       "      <td>6.909091</td>\n",
       "      <td>0.498047</td>\n",
       "    </tr>\n",
       "    <tr>\n",
       "      <th>2</th>\n",
       "      <td>3</td>\n",
       "      <td>8228.0</td>\n",
       "      <td>31.5</td>\n",
       "      <td>127.5</td>\n",
       "      <td>-3.831912</td>\n",
       "      <td>0.545455</td>\n",
       "      <td>1.0</td>\n",
       "      <td>31.5</td>\n",
       "      <td>8.818182</td>\n",
       "      <td>0.498047</td>\n",
       "    </tr>\n",
       "    <tr>\n",
       "      <th>3</th>\n",
       "      <td>4</td>\n",
       "      <td>8228.0</td>\n",
       "      <td>31.5</td>\n",
       "      <td>127.5</td>\n",
       "      <td>-0.359001</td>\n",
       "      <td>0.454545</td>\n",
       "      <td>0.0</td>\n",
       "      <td>31.5</td>\n",
       "      <td>7.454545</td>\n",
       "      <td>0.498047</td>\n",
       "    </tr>\n",
       "    <tr>\n",
       "      <th>4</th>\n",
       "      <td>5</td>\n",
       "      <td>8228.0</td>\n",
       "      <td>31.5</td>\n",
       "      <td>127.5</td>\n",
       "      <td>-2.100669</td>\n",
       "      <td>0.538462</td>\n",
       "      <td>2.0</td>\n",
       "      <td>31.5</td>\n",
       "      <td>8.384615</td>\n",
       "      <td>0.498047</td>\n",
       "    </tr>\n",
       "  </tbody>\n",
       "</table>\n",
       "</div>"
      ],
      "text/plain": [
       "   trial number  Unnamed: 0  sensor position  sample num  sensor value  \\\n",
       "0             0      8228.0             31.5       127.5     -0.783420   \n",
       "1             2      8228.0             31.5       127.5     -0.476310   \n",
       "2             3      8228.0             31.5       127.5     -3.831912   \n",
       "3             4      8228.0             31.5       127.5     -0.359001   \n",
       "4             5      8228.0             31.5       127.5     -2.100669   \n",
       "\n",
       "   subject identifier  matching condition  channel      name      time  \n",
       "0            0.500000                 0.0     31.5  7.571429  0.498047  \n",
       "1            0.454545                 0.0     31.5  6.909091  0.498047  \n",
       "2            0.545455                 1.0     31.5  8.818182  0.498047  \n",
       "3            0.454545                 0.0     31.5  7.454545  0.498047  \n",
       "4            0.538462                 2.0     31.5  8.384615  0.498047  "
      ]
     },
     "execution_count": 27,
     "metadata": {},
     "output_type": "execute_result"
    }
   ],
   "source": [
    "Data_train.head()"
   ]
  },
  {
   "cell_type": "code",
   "execution_count": 28,
   "metadata": {},
   "outputs": [],
   "source": [
    "Data_train.loc[Data_train['subject identifier'] < 0.5,'subject identifier'] = 0\n",
    "Data_train.loc[Data_train['subject identifier'] >= 0.5,'subject identifier'] = 1"
   ]
  },
  {
   "cell_type": "code",
   "execution_count": 29,
   "metadata": {},
   "outputs": [
    {
     "data": {
      "text/html": [
       "<div>\n",
       "<style scoped>\n",
       "    .dataframe tbody tr th:only-of-type {\n",
       "        vertical-align: middle;\n",
       "    }\n",
       "\n",
       "    .dataframe tbody tr th {\n",
       "        vertical-align: top;\n",
       "    }\n",
       "\n",
       "    .dataframe thead th {\n",
       "        text-align: right;\n",
       "    }\n",
       "</style>\n",
       "<table border=\"1\" class=\"dataframe\">\n",
       "  <thead>\n",
       "    <tr style=\"text-align: right;\">\n",
       "      <th></th>\n",
       "      <th>trial number</th>\n",
       "      <th>Unnamed: 0</th>\n",
       "      <th>sensor position</th>\n",
       "      <th>sample num</th>\n",
       "      <th>sensor value</th>\n",
       "      <th>subject identifier</th>\n",
       "      <th>matching condition</th>\n",
       "      <th>channel</th>\n",
       "      <th>name</th>\n",
       "      <th>time</th>\n",
       "    </tr>\n",
       "  </thead>\n",
       "  <tbody>\n",
       "    <tr>\n",
       "      <th>0</th>\n",
       "      <td>0</td>\n",
       "      <td>8228.0</td>\n",
       "      <td>31.5</td>\n",
       "      <td>127.5</td>\n",
       "      <td>-0.783420</td>\n",
       "      <td>1.0</td>\n",
       "      <td>0.0</td>\n",
       "      <td>31.5</td>\n",
       "      <td>7.571429</td>\n",
       "      <td>0.498047</td>\n",
       "    </tr>\n",
       "    <tr>\n",
       "      <th>1</th>\n",
       "      <td>2</td>\n",
       "      <td>8228.0</td>\n",
       "      <td>31.5</td>\n",
       "      <td>127.5</td>\n",
       "      <td>-0.476310</td>\n",
       "      <td>0.0</td>\n",
       "      <td>0.0</td>\n",
       "      <td>31.5</td>\n",
       "      <td>6.909091</td>\n",
       "      <td>0.498047</td>\n",
       "    </tr>\n",
       "    <tr>\n",
       "      <th>2</th>\n",
       "      <td>3</td>\n",
       "      <td>8228.0</td>\n",
       "      <td>31.5</td>\n",
       "      <td>127.5</td>\n",
       "      <td>-3.831912</td>\n",
       "      <td>1.0</td>\n",
       "      <td>1.0</td>\n",
       "      <td>31.5</td>\n",
       "      <td>8.818182</td>\n",
       "      <td>0.498047</td>\n",
       "    </tr>\n",
       "    <tr>\n",
       "      <th>3</th>\n",
       "      <td>4</td>\n",
       "      <td>8228.0</td>\n",
       "      <td>31.5</td>\n",
       "      <td>127.5</td>\n",
       "      <td>-0.359001</td>\n",
       "      <td>0.0</td>\n",
       "      <td>0.0</td>\n",
       "      <td>31.5</td>\n",
       "      <td>7.454545</td>\n",
       "      <td>0.498047</td>\n",
       "    </tr>\n",
       "    <tr>\n",
       "      <th>4</th>\n",
       "      <td>5</td>\n",
       "      <td>8228.0</td>\n",
       "      <td>31.5</td>\n",
       "      <td>127.5</td>\n",
       "      <td>-2.100669</td>\n",
       "      <td>1.0</td>\n",
       "      <td>2.0</td>\n",
       "      <td>31.5</td>\n",
       "      <td>8.384615</td>\n",
       "      <td>0.498047</td>\n",
       "    </tr>\n",
       "  </tbody>\n",
       "</table>\n",
       "</div>"
      ],
      "text/plain": [
       "   trial number  Unnamed: 0  sensor position  sample num  sensor value  \\\n",
       "0             0      8228.0             31.5       127.5     -0.783420   \n",
       "1             2      8228.0             31.5       127.5     -0.476310   \n",
       "2             3      8228.0             31.5       127.5     -3.831912   \n",
       "3             4      8228.0             31.5       127.5     -0.359001   \n",
       "4             5      8228.0             31.5       127.5     -2.100669   \n",
       "\n",
       "   subject identifier  matching condition  channel      name      time  \n",
       "0                 1.0                 0.0     31.5  7.571429  0.498047  \n",
       "1                 0.0                 0.0     31.5  6.909091  0.498047  \n",
       "2                 1.0                 1.0     31.5  8.818182  0.498047  \n",
       "3                 0.0                 0.0     31.5  7.454545  0.498047  \n",
       "4                 1.0                 2.0     31.5  8.384615  0.498047  "
      ]
     },
     "execution_count": 29,
     "metadata": {},
     "output_type": "execute_result"
    }
   ],
   "source": [
    "Data_train.head()"
   ]
  },
  {
   "cell_type": "code",
   "execution_count": 31,
   "metadata": {},
   "outputs": [],
   "source": [
    "Data_test=Data1.groupby('trial number').mean()"
   ]
  },
  {
   "cell_type": "code",
   "execution_count": 32,
   "metadata": {},
   "outputs": [
    {
     "data": {
      "text/html": [
       "<div>\n",
       "<style scoped>\n",
       "    .dataframe tbody tr th:only-of-type {\n",
       "        vertical-align: middle;\n",
       "    }\n",
       "\n",
       "    .dataframe tbody tr th {\n",
       "        vertical-align: top;\n",
       "    }\n",
       "\n",
       "    .dataframe thead th {\n",
       "        text-align: right;\n",
       "    }\n",
       "</style>\n",
       "<table border=\"1\" class=\"dataframe\">\n",
       "  <thead>\n",
       "    <tr style=\"text-align: right;\">\n",
       "      <th></th>\n",
       "      <th>Unnamed: 0</th>\n",
       "      <th>sensor position</th>\n",
       "      <th>sample num</th>\n",
       "      <th>sensor value</th>\n",
       "      <th>subject identifier</th>\n",
       "      <th>matching condition</th>\n",
       "      <th>channel</th>\n",
       "      <th>name</th>\n",
       "      <th>time</th>\n",
       "    </tr>\n",
       "    <tr>\n",
       "      <th>trial number</th>\n",
       "      <th></th>\n",
       "      <th></th>\n",
       "      <th></th>\n",
       "      <th></th>\n",
       "      <th></th>\n",
       "      <th></th>\n",
       "      <th></th>\n",
       "      <th></th>\n",
       "      <th></th>\n",
       "    </tr>\n",
       "  </thead>\n",
       "  <tbody>\n",
       "    <tr>\n",
       "      <th>20</th>\n",
       "      <td>8228.0</td>\n",
       "      <td>31.5</td>\n",
       "      <td>127.5</td>\n",
       "      <td>-0.196247</td>\n",
       "      <td>0.333333</td>\n",
       "      <td>0.0</td>\n",
       "      <td>31.5</td>\n",
       "      <td>6.666667</td>\n",
       "      <td>0.498047</td>\n",
       "    </tr>\n",
       "    <tr>\n",
       "      <th>22</th>\n",
       "      <td>8228.0</td>\n",
       "      <td>31.5</td>\n",
       "      <td>127.5</td>\n",
       "      <td>0.470601</td>\n",
       "      <td>0.375000</td>\n",
       "      <td>0.0</td>\n",
       "      <td>31.5</td>\n",
       "      <td>7.125000</td>\n",
       "      <td>0.498047</td>\n",
       "    </tr>\n",
       "    <tr>\n",
       "      <th>24</th>\n",
       "      <td>8228.0</td>\n",
       "      <td>31.5</td>\n",
       "      <td>127.5</td>\n",
       "      <td>0.225668</td>\n",
       "      <td>0.500000</td>\n",
       "      <td>0.0</td>\n",
       "      <td>31.5</td>\n",
       "      <td>8.625000</td>\n",
       "      <td>0.498047</td>\n",
       "    </tr>\n",
       "    <tr>\n",
       "      <th>26</th>\n",
       "      <td>8228.0</td>\n",
       "      <td>31.5</td>\n",
       "      <td>127.5</td>\n",
       "      <td>-0.559732</td>\n",
       "      <td>0.500000</td>\n",
       "      <td>0.0</td>\n",
       "      <td>31.5</td>\n",
       "      <td>8.500000</td>\n",
       "      <td>0.498047</td>\n",
       "    </tr>\n",
       "    <tr>\n",
       "      <th>28</th>\n",
       "      <td>8228.0</td>\n",
       "      <td>31.5</td>\n",
       "      <td>127.5</td>\n",
       "      <td>0.546841</td>\n",
       "      <td>0.444444</td>\n",
       "      <td>0.0</td>\n",
       "      <td>31.5</td>\n",
       "      <td>7.777778</td>\n",
       "      <td>0.498047</td>\n",
       "    </tr>\n",
       "  </tbody>\n",
       "</table>\n",
       "</div>"
      ],
      "text/plain": [
       "              Unnamed: 0  sensor position  sample num  sensor value  \\\n",
       "trial number                                                          \n",
       "20                8228.0             31.5       127.5     -0.196247   \n",
       "22                8228.0             31.5       127.5      0.470601   \n",
       "24                8228.0             31.5       127.5      0.225668   \n",
       "26                8228.0             31.5       127.5     -0.559732   \n",
       "28                8228.0             31.5       127.5      0.546841   \n",
       "\n",
       "              subject identifier  matching condition  channel      name  \\\n",
       "trial number                                                              \n",
       "20                      0.333333                 0.0     31.5  6.666667   \n",
       "22                      0.375000                 0.0     31.5  7.125000   \n",
       "24                      0.500000                 0.0     31.5  8.625000   \n",
       "26                      0.500000                 0.0     31.5  8.500000   \n",
       "28                      0.444444                 0.0     31.5  7.777778   \n",
       "\n",
       "                  time  \n",
       "trial number            \n",
       "20            0.498047  \n",
       "22            0.498047  \n",
       "24            0.498047  \n",
       "26            0.498047  \n",
       "28            0.498047  "
      ]
     },
     "execution_count": 32,
     "metadata": {},
     "output_type": "execute_result"
    }
   ],
   "source": [
    "Data_test.head()"
   ]
  },
  {
   "cell_type": "code",
   "execution_count": 33,
   "metadata": {},
   "outputs": [],
   "source": [
    "Data_test=Data_test.reset_index()"
   ]
  },
  {
   "cell_type": "code",
   "execution_count": 34,
   "metadata": {},
   "outputs": [
    {
     "data": {
      "text/html": [
       "<div>\n",
       "<style scoped>\n",
       "    .dataframe tbody tr th:only-of-type {\n",
       "        vertical-align: middle;\n",
       "    }\n",
       "\n",
       "    .dataframe tbody tr th {\n",
       "        vertical-align: top;\n",
       "    }\n",
       "\n",
       "    .dataframe thead th {\n",
       "        text-align: right;\n",
       "    }\n",
       "</style>\n",
       "<table border=\"1\" class=\"dataframe\">\n",
       "  <thead>\n",
       "    <tr style=\"text-align: right;\">\n",
       "      <th></th>\n",
       "      <th>trial number</th>\n",
       "      <th>Unnamed: 0</th>\n",
       "      <th>sensor position</th>\n",
       "      <th>sample num</th>\n",
       "      <th>sensor value</th>\n",
       "      <th>subject identifier</th>\n",
       "      <th>matching condition</th>\n",
       "      <th>channel</th>\n",
       "      <th>name</th>\n",
       "      <th>time</th>\n",
       "    </tr>\n",
       "  </thead>\n",
       "  <tbody>\n",
       "    <tr>\n",
       "      <th>0</th>\n",
       "      <td>20</td>\n",
       "      <td>8228.0</td>\n",
       "      <td>31.5</td>\n",
       "      <td>127.5</td>\n",
       "      <td>-0.196247</td>\n",
       "      <td>0.333333</td>\n",
       "      <td>0.0</td>\n",
       "      <td>31.5</td>\n",
       "      <td>6.666667</td>\n",
       "      <td>0.498047</td>\n",
       "    </tr>\n",
       "    <tr>\n",
       "      <th>1</th>\n",
       "      <td>22</td>\n",
       "      <td>8228.0</td>\n",
       "      <td>31.5</td>\n",
       "      <td>127.5</td>\n",
       "      <td>0.470601</td>\n",
       "      <td>0.375000</td>\n",
       "      <td>0.0</td>\n",
       "      <td>31.5</td>\n",
       "      <td>7.125000</td>\n",
       "      <td>0.498047</td>\n",
       "    </tr>\n",
       "    <tr>\n",
       "      <th>2</th>\n",
       "      <td>24</td>\n",
       "      <td>8228.0</td>\n",
       "      <td>31.5</td>\n",
       "      <td>127.5</td>\n",
       "      <td>0.225668</td>\n",
       "      <td>0.500000</td>\n",
       "      <td>0.0</td>\n",
       "      <td>31.5</td>\n",
       "      <td>8.625000</td>\n",
       "      <td>0.498047</td>\n",
       "    </tr>\n",
       "    <tr>\n",
       "      <th>3</th>\n",
       "      <td>26</td>\n",
       "      <td>8228.0</td>\n",
       "      <td>31.5</td>\n",
       "      <td>127.5</td>\n",
       "      <td>-0.559732</td>\n",
       "      <td>0.500000</td>\n",
       "      <td>0.0</td>\n",
       "      <td>31.5</td>\n",
       "      <td>8.500000</td>\n",
       "      <td>0.498047</td>\n",
       "    </tr>\n",
       "    <tr>\n",
       "      <th>4</th>\n",
       "      <td>28</td>\n",
       "      <td>8228.0</td>\n",
       "      <td>31.5</td>\n",
       "      <td>127.5</td>\n",
       "      <td>0.546841</td>\n",
       "      <td>0.444444</td>\n",
       "      <td>0.0</td>\n",
       "      <td>31.5</td>\n",
       "      <td>7.777778</td>\n",
       "      <td>0.498047</td>\n",
       "    </tr>\n",
       "  </tbody>\n",
       "</table>\n",
       "</div>"
      ],
      "text/plain": [
       "   trial number  Unnamed: 0  sensor position  sample num  sensor value  \\\n",
       "0            20      8228.0             31.5       127.5     -0.196247   \n",
       "1            22      8228.0             31.5       127.5      0.470601   \n",
       "2            24      8228.0             31.5       127.5      0.225668   \n",
       "3            26      8228.0             31.5       127.5     -0.559732   \n",
       "4            28      8228.0             31.5       127.5      0.546841   \n",
       "\n",
       "   subject identifier  matching condition  channel      name      time  \n",
       "0            0.333333                 0.0     31.5  6.666667  0.498047  \n",
       "1            0.375000                 0.0     31.5  7.125000  0.498047  \n",
       "2            0.500000                 0.0     31.5  8.625000  0.498047  \n",
       "3            0.500000                 0.0     31.5  8.500000  0.498047  \n",
       "4            0.444444                 0.0     31.5  7.777778  0.498047  "
      ]
     },
     "execution_count": 34,
     "metadata": {},
     "output_type": "execute_result"
    }
   ],
   "source": [
    "Data_test.head()"
   ]
  },
  {
   "cell_type": "code",
   "execution_count": 37,
   "metadata": {},
   "outputs": [],
   "source": [
    "Data_test.loc[Data_test['subject identifier'] < 0.5,'subject identifier'] = 0\n",
    "Data_test.loc[Data_test['subject identifier'] >= 0.5,'subject identifier'] = 1"
   ]
  },
  {
   "cell_type": "code",
   "execution_count": 38,
   "metadata": {},
   "outputs": [
    {
     "data": {
      "text/html": [
       "<div>\n",
       "<style scoped>\n",
       "    .dataframe tbody tr th:only-of-type {\n",
       "        vertical-align: middle;\n",
       "    }\n",
       "\n",
       "    .dataframe tbody tr th {\n",
       "        vertical-align: top;\n",
       "    }\n",
       "\n",
       "    .dataframe thead th {\n",
       "        text-align: right;\n",
       "    }\n",
       "</style>\n",
       "<table border=\"1\" class=\"dataframe\">\n",
       "  <thead>\n",
       "    <tr style=\"text-align: right;\">\n",
       "      <th></th>\n",
       "      <th>trial number</th>\n",
       "      <th>Unnamed: 0</th>\n",
       "      <th>sensor position</th>\n",
       "      <th>sample num</th>\n",
       "      <th>sensor value</th>\n",
       "      <th>subject identifier</th>\n",
       "      <th>matching condition</th>\n",
       "      <th>channel</th>\n",
       "      <th>name</th>\n",
       "      <th>time</th>\n",
       "    </tr>\n",
       "  </thead>\n",
       "  <tbody>\n",
       "    <tr>\n",
       "      <th>0</th>\n",
       "      <td>20</td>\n",
       "      <td>8228.0</td>\n",
       "      <td>31.5</td>\n",
       "      <td>127.5</td>\n",
       "      <td>-0.196247</td>\n",
       "      <td>0.0</td>\n",
       "      <td>0.0</td>\n",
       "      <td>31.5</td>\n",
       "      <td>6.666667</td>\n",
       "      <td>0.498047</td>\n",
       "    </tr>\n",
       "    <tr>\n",
       "      <th>1</th>\n",
       "      <td>22</td>\n",
       "      <td>8228.0</td>\n",
       "      <td>31.5</td>\n",
       "      <td>127.5</td>\n",
       "      <td>0.470601</td>\n",
       "      <td>0.0</td>\n",
       "      <td>0.0</td>\n",
       "      <td>31.5</td>\n",
       "      <td>7.125000</td>\n",
       "      <td>0.498047</td>\n",
       "    </tr>\n",
       "    <tr>\n",
       "      <th>2</th>\n",
       "      <td>24</td>\n",
       "      <td>8228.0</td>\n",
       "      <td>31.5</td>\n",
       "      <td>127.5</td>\n",
       "      <td>0.225668</td>\n",
       "      <td>1.0</td>\n",
       "      <td>0.0</td>\n",
       "      <td>31.5</td>\n",
       "      <td>8.625000</td>\n",
       "      <td>0.498047</td>\n",
       "    </tr>\n",
       "    <tr>\n",
       "      <th>3</th>\n",
       "      <td>26</td>\n",
       "      <td>8228.0</td>\n",
       "      <td>31.5</td>\n",
       "      <td>127.5</td>\n",
       "      <td>-0.559732</td>\n",
       "      <td>1.0</td>\n",
       "      <td>0.0</td>\n",
       "      <td>31.5</td>\n",
       "      <td>8.500000</td>\n",
       "      <td>0.498047</td>\n",
       "    </tr>\n",
       "    <tr>\n",
       "      <th>4</th>\n",
       "      <td>28</td>\n",
       "      <td>8228.0</td>\n",
       "      <td>31.5</td>\n",
       "      <td>127.5</td>\n",
       "      <td>0.546841</td>\n",
       "      <td>0.0</td>\n",
       "      <td>0.0</td>\n",
       "      <td>31.5</td>\n",
       "      <td>7.777778</td>\n",
       "      <td>0.498047</td>\n",
       "    </tr>\n",
       "  </tbody>\n",
       "</table>\n",
       "</div>"
      ],
      "text/plain": [
       "   trial number  Unnamed: 0  sensor position  sample num  sensor value  \\\n",
       "0            20      8228.0             31.5       127.5     -0.196247   \n",
       "1            22      8228.0             31.5       127.5      0.470601   \n",
       "2            24      8228.0             31.5       127.5      0.225668   \n",
       "3            26      8228.0             31.5       127.5     -0.559732   \n",
       "4            28      8228.0             31.5       127.5      0.546841   \n",
       "\n",
       "   subject identifier  matching condition  channel      name      time  \n",
       "0                 0.0                 0.0     31.5  6.666667  0.498047  \n",
       "1                 0.0                 0.0     31.5  7.125000  0.498047  \n",
       "2                 1.0                 0.0     31.5  8.625000  0.498047  \n",
       "3                 1.0                 0.0     31.5  8.500000  0.498047  \n",
       "4                 0.0                 0.0     31.5  7.777778  0.498047  "
      ]
     },
     "execution_count": 38,
     "metadata": {},
     "output_type": "execute_result"
    }
   ],
   "source": [
    "Data_test.head()"
   ]
  },
  {
   "cell_type": "code",
   "execution_count": 35,
   "metadata": {},
   "outputs": [
    {
     "data": {
      "text/html": [
       "<div>\n",
       "<style scoped>\n",
       "    .dataframe tbody tr th:only-of-type {\n",
       "        vertical-align: middle;\n",
       "    }\n",
       "\n",
       "    .dataframe tbody tr th {\n",
       "        vertical-align: top;\n",
       "    }\n",
       "\n",
       "    .dataframe thead th {\n",
       "        text-align: right;\n",
       "    }\n",
       "</style>\n",
       "<table border=\"1\" class=\"dataframe\">\n",
       "  <thead>\n",
       "    <tr style=\"text-align: right;\">\n",
       "      <th></th>\n",
       "      <th>trial number</th>\n",
       "      <th>Unnamed: 0</th>\n",
       "      <th>sensor position</th>\n",
       "      <th>sample num</th>\n",
       "      <th>sensor value</th>\n",
       "      <th>subject identifier</th>\n",
       "      <th>matching condition</th>\n",
       "      <th>channel</th>\n",
       "      <th>name</th>\n",
       "      <th>time</th>\n",
       "    </tr>\n",
       "  </thead>\n",
       "  <tbody>\n",
       "    <tr>\n",
       "      <th>count</th>\n",
       "      <td>62.000000</td>\n",
       "      <td>62.0</td>\n",
       "      <td>62.0</td>\n",
       "      <td>62.0</td>\n",
       "      <td>62.000000</td>\n",
       "      <td>62.000000</td>\n",
       "      <td>62.000000</td>\n",
       "      <td>62.0</td>\n",
       "      <td>62.000000</td>\n",
       "      <td>62.000000</td>\n",
       "    </tr>\n",
       "    <tr>\n",
       "      <th>mean</th>\n",
       "      <td>37.661290</td>\n",
       "      <td>8228.0</td>\n",
       "      <td>31.5</td>\n",
       "      <td>127.5</td>\n",
       "      <td>-2.231192</td>\n",
       "      <td>0.564516</td>\n",
       "      <td>1.064516</td>\n",
       "      <td>31.5</td>\n",
       "      <td>7.740380</td>\n",
       "      <td>0.498047</td>\n",
       "    </tr>\n",
       "    <tr>\n",
       "      <th>std</th>\n",
       "      <td>26.946178</td>\n",
       "      <td>0.0</td>\n",
       "      <td>0.0</td>\n",
       "      <td>0.0</td>\n",
       "      <td>1.828379</td>\n",
       "      <td>0.499868</td>\n",
       "      <td>0.827221</td>\n",
       "      <td>0.0</td>\n",
       "      <td>1.842971</td>\n",
       "      <td>0.000000</td>\n",
       "    </tr>\n",
       "    <tr>\n",
       "      <th>min</th>\n",
       "      <td>0.000000</td>\n",
       "      <td>8228.0</td>\n",
       "      <td>31.5</td>\n",
       "      <td>127.5</td>\n",
       "      <td>-6.434309</td>\n",
       "      <td>0.000000</td>\n",
       "      <td>0.000000</td>\n",
       "      <td>31.5</td>\n",
       "      <td>0.000000</td>\n",
       "      <td>0.498047</td>\n",
       "    </tr>\n",
       "    <tr>\n",
       "      <th>25%</th>\n",
       "      <td>16.250000</td>\n",
       "      <td>8228.0</td>\n",
       "      <td>31.5</td>\n",
       "      <td>127.5</td>\n",
       "      <td>-3.503602</td>\n",
       "      <td>0.000000</td>\n",
       "      <td>0.000000</td>\n",
       "      <td>31.5</td>\n",
       "      <td>6.937500</td>\n",
       "      <td>0.498047</td>\n",
       "    </tr>\n",
       "    <tr>\n",
       "      <th>50%</th>\n",
       "      <td>31.500000</td>\n",
       "      <td>8228.0</td>\n",
       "      <td>31.5</td>\n",
       "      <td>127.5</td>\n",
       "      <td>-2.366529</td>\n",
       "      <td>1.000000</td>\n",
       "      <td>1.000000</td>\n",
       "      <td>31.5</td>\n",
       "      <td>7.464103</td>\n",
       "      <td>0.498047</td>\n",
       "    </tr>\n",
       "    <tr>\n",
       "      <th>75%</th>\n",
       "      <td>56.500000</td>\n",
       "      <td>8228.0</td>\n",
       "      <td>31.5</td>\n",
       "      <td>127.5</td>\n",
       "      <td>-0.974976</td>\n",
       "      <td>1.000000</td>\n",
       "      <td>2.000000</td>\n",
       "      <td>31.5</td>\n",
       "      <td>8.338462</td>\n",
       "      <td>0.498047</td>\n",
       "    </tr>\n",
       "    <tr>\n",
       "      <th>max</th>\n",
       "      <td>107.000000</td>\n",
       "      <td>8228.0</td>\n",
       "      <td>31.5</td>\n",
       "      <td>127.5</td>\n",
       "      <td>3.012096</td>\n",
       "      <td>1.000000</td>\n",
       "      <td>2.000000</td>\n",
       "      <td>31.5</td>\n",
       "      <td>11.666667</td>\n",
       "      <td>0.498047</td>\n",
       "    </tr>\n",
       "  </tbody>\n",
       "</table>\n",
       "</div>"
      ],
      "text/plain": [
       "       trial number  Unnamed: 0  sensor position  sample num  sensor value  \\\n",
       "count     62.000000        62.0             62.0        62.0     62.000000   \n",
       "mean      37.661290      8228.0             31.5       127.5     -2.231192   \n",
       "std       26.946178         0.0              0.0         0.0      1.828379   \n",
       "min        0.000000      8228.0             31.5       127.5     -6.434309   \n",
       "25%       16.250000      8228.0             31.5       127.5     -3.503602   \n",
       "50%       31.500000      8228.0             31.5       127.5     -2.366529   \n",
       "75%       56.500000      8228.0             31.5       127.5     -0.974976   \n",
       "max      107.000000      8228.0             31.5       127.5      3.012096   \n",
       "\n",
       "       subject identifier  matching condition  channel       name       time  \n",
       "count           62.000000           62.000000     62.0  62.000000  62.000000  \n",
       "mean             0.564516            1.064516     31.5   7.740380   0.498047  \n",
       "std              0.499868            0.827221      0.0   1.842971   0.000000  \n",
       "min              0.000000            0.000000     31.5   0.000000   0.498047  \n",
       "25%              0.000000            0.000000     31.5   6.937500   0.498047  \n",
       "50%              1.000000            1.000000     31.5   7.464103   0.498047  \n",
       "75%              1.000000            2.000000     31.5   8.338462   0.498047  \n",
       "max              1.000000            2.000000     31.5  11.666667   0.498047  "
      ]
     },
     "execution_count": 35,
     "metadata": {},
     "output_type": "execute_result"
    }
   ],
   "source": [
    "Data_train.describe()"
   ]
  },
  {
   "cell_type": "code",
   "execution_count": 39,
   "metadata": {},
   "outputs": [
    {
     "data": {
      "text/html": [
       "<div>\n",
       "<style scoped>\n",
       "    .dataframe tbody tr th:only-of-type {\n",
       "        vertical-align: middle;\n",
       "    }\n",
       "\n",
       "    .dataframe tbody tr th {\n",
       "        vertical-align: top;\n",
       "    }\n",
       "\n",
       "    .dataframe thead th {\n",
       "        text-align: right;\n",
       "    }\n",
       "</style>\n",
       "<table border=\"1\" class=\"dataframe\">\n",
       "  <thead>\n",
       "    <tr style=\"text-align: right;\">\n",
       "      <th></th>\n",
       "      <th>trial number</th>\n",
       "      <th>Unnamed: 0</th>\n",
       "      <th>sensor position</th>\n",
       "      <th>sample num</th>\n",
       "      <th>sensor value</th>\n",
       "      <th>subject identifier</th>\n",
       "      <th>matching condition</th>\n",
       "      <th>channel</th>\n",
       "      <th>name</th>\n",
       "      <th>time</th>\n",
       "    </tr>\n",
       "  </thead>\n",
       "  <tbody>\n",
       "    <tr>\n",
       "      <th>count</th>\n",
       "      <td>66.000000</td>\n",
       "      <td>66.0</td>\n",
       "      <td>66.0</td>\n",
       "      <td>66.0</td>\n",
       "      <td>66.000000</td>\n",
       "      <td>66.000000</td>\n",
       "      <td>66.000000</td>\n",
       "      <td>66.0</td>\n",
       "      <td>66.000000</td>\n",
       "      <td>66.000000</td>\n",
       "    </tr>\n",
       "    <tr>\n",
       "      <th>mean</th>\n",
       "      <td>64.924242</td>\n",
       "      <td>8228.0</td>\n",
       "      <td>31.5</td>\n",
       "      <td>127.5</td>\n",
       "      <td>-1.901778</td>\n",
       "      <td>0.636364</td>\n",
       "      <td>0.954545</td>\n",
       "      <td>31.5</td>\n",
       "      <td>7.630119</td>\n",
       "      <td>0.498047</td>\n",
       "    </tr>\n",
       "    <tr>\n",
       "      <th>std</th>\n",
       "      <td>27.426719</td>\n",
       "      <td>0.0</td>\n",
       "      <td>0.0</td>\n",
       "      <td>0.0</td>\n",
       "      <td>1.837076</td>\n",
       "      <td>0.484732</td>\n",
       "      <td>0.812059</td>\n",
       "      <td>0.0</td>\n",
       "      <td>1.459455</td>\n",
       "      <td>0.000000</td>\n",
       "    </tr>\n",
       "    <tr>\n",
       "      <th>min</th>\n",
       "      <td>20.000000</td>\n",
       "      <td>8228.0</td>\n",
       "      <td>31.5</td>\n",
       "      <td>127.5</td>\n",
       "      <td>-7.035621</td>\n",
       "      <td>0.000000</td>\n",
       "      <td>0.000000</td>\n",
       "      <td>31.5</td>\n",
       "      <td>2.000000</td>\n",
       "      <td>0.498047</td>\n",
       "    </tr>\n",
       "    <tr>\n",
       "      <th>25%</th>\n",
       "      <td>43.250000</td>\n",
       "      <td>8228.0</td>\n",
       "      <td>31.5</td>\n",
       "      <td>127.5</td>\n",
       "      <td>-3.072032</td>\n",
       "      <td>0.000000</td>\n",
       "      <td>0.000000</td>\n",
       "      <td>31.5</td>\n",
       "      <td>6.800000</td>\n",
       "      <td>0.498047</td>\n",
       "    </tr>\n",
       "    <tr>\n",
       "      <th>50%</th>\n",
       "      <td>59.500000</td>\n",
       "      <td>8228.0</td>\n",
       "      <td>31.5</td>\n",
       "      <td>127.5</td>\n",
       "      <td>-1.814557</td>\n",
       "      <td>1.000000</td>\n",
       "      <td>1.000000</td>\n",
       "      <td>31.5</td>\n",
       "      <td>7.519231</td>\n",
       "      <td>0.498047</td>\n",
       "    </tr>\n",
       "    <tr>\n",
       "      <th>75%</th>\n",
       "      <td>86.500000</td>\n",
       "      <td>8228.0</td>\n",
       "      <td>31.5</td>\n",
       "      <td>127.5</td>\n",
       "      <td>-0.507072</td>\n",
       "      <td>1.000000</td>\n",
       "      <td>2.000000</td>\n",
       "      <td>31.5</td>\n",
       "      <td>8.222222</td>\n",
       "      <td>0.498047</td>\n",
       "    </tr>\n",
       "    <tr>\n",
       "      <th>max</th>\n",
       "      <td>119.000000</td>\n",
       "      <td>8228.0</td>\n",
       "      <td>31.5</td>\n",
       "      <td>127.5</td>\n",
       "      <td>2.634119</td>\n",
       "      <td>1.000000</td>\n",
       "      <td>2.000000</td>\n",
       "      <td>31.5</td>\n",
       "      <td>12.000000</td>\n",
       "      <td>0.498047</td>\n",
       "    </tr>\n",
       "  </tbody>\n",
       "</table>\n",
       "</div>"
      ],
      "text/plain": [
       "       trial number  Unnamed: 0  sensor position  sample num  sensor value  \\\n",
       "count     66.000000        66.0             66.0        66.0     66.000000   \n",
       "mean      64.924242      8228.0             31.5       127.5     -1.901778   \n",
       "std       27.426719         0.0              0.0         0.0      1.837076   \n",
       "min       20.000000      8228.0             31.5       127.5     -7.035621   \n",
       "25%       43.250000      8228.0             31.5       127.5     -3.072032   \n",
       "50%       59.500000      8228.0             31.5       127.5     -1.814557   \n",
       "75%       86.500000      8228.0             31.5       127.5     -0.507072   \n",
       "max      119.000000      8228.0             31.5       127.5      2.634119   \n",
       "\n",
       "       subject identifier  matching condition  channel       name       time  \n",
       "count           66.000000           66.000000     66.0  66.000000  66.000000  \n",
       "mean             0.636364            0.954545     31.5   7.630119   0.498047  \n",
       "std              0.484732            0.812059      0.0   1.459455   0.000000  \n",
       "min              0.000000            0.000000     31.5   2.000000   0.498047  \n",
       "25%              0.000000            0.000000     31.5   6.800000   0.498047  \n",
       "50%              1.000000            1.000000     31.5   7.519231   0.498047  \n",
       "75%              1.000000            2.000000     31.5   8.222222   0.498047  \n",
       "max              1.000000            2.000000     31.5  12.000000   0.498047  "
      ]
     },
     "execution_count": 39,
     "metadata": {},
     "output_type": "execute_result"
    }
   ],
   "source": [
    "Data_test.describe()"
   ]
  },
  {
   "cell_type": "code",
   "execution_count": 40,
   "metadata": {},
   "outputs": [],
   "source": [
    "test_data=Data_test.drop(['Unnamed: 0','subject identifier','name','channel','time'],axis=1)\n",
    "test_target=Data_test['subject identifier']"
   ]
  },
  {
   "cell_type": "code",
   "execution_count": 41,
   "metadata": {},
   "outputs": [
    {
     "data": {
      "text/plain": [
       "(66, 5)"
      ]
     },
     "execution_count": 41,
     "metadata": {},
     "output_type": "execute_result"
    }
   ],
   "source": [
    "test_data.shape"
   ]
  },
  {
   "cell_type": "code",
   "execution_count": 42,
   "metadata": {},
   "outputs": [
    {
     "data": {
      "text/plain": [
       "(66,)"
      ]
     },
     "execution_count": 42,
     "metadata": {},
     "output_type": "execute_result"
    }
   ],
   "source": [
    "test_target.shape"
   ]
  },
  {
   "cell_type": "markdown",
   "metadata": {},
   "source": [
    "### SPLITTING THE TRAINING DATASET INTO K FOLDS(K=10)"
   ]
  },
  {
   "cell_type": "code",
   "execution_count": 60,
   "metadata": {},
   "outputs": [],
   "source": [
    "x,y = Data_train.drop(['Unnamed: 0','subject identifier','name','channel','time'],axis=1), Data_train['subject identifier']\n"
   ]
  },
  {
   "cell_type": "code",
   "execution_count": 61,
   "metadata": {},
   "outputs": [
    {
     "data": {
      "text/html": [
       "<div>\n",
       "<style scoped>\n",
       "    .dataframe tbody tr th:only-of-type {\n",
       "        vertical-align: middle;\n",
       "    }\n",
       "\n",
       "    .dataframe tbody tr th {\n",
       "        vertical-align: top;\n",
       "    }\n",
       "\n",
       "    .dataframe thead th {\n",
       "        text-align: right;\n",
       "    }\n",
       "</style>\n",
       "<table border=\"1\" class=\"dataframe\">\n",
       "  <thead>\n",
       "    <tr style=\"text-align: right;\">\n",
       "      <th></th>\n",
       "      <th>trial number</th>\n",
       "      <th>sensor position</th>\n",
       "      <th>sample num</th>\n",
       "      <th>sensor value</th>\n",
       "      <th>matching condition</th>\n",
       "    </tr>\n",
       "  </thead>\n",
       "  <tbody>\n",
       "    <tr>\n",
       "      <th>0</th>\n",
       "      <td>0</td>\n",
       "      <td>31.5</td>\n",
       "      <td>127.5</td>\n",
       "      <td>-0.783420</td>\n",
       "      <td>0.0</td>\n",
       "    </tr>\n",
       "    <tr>\n",
       "      <th>1</th>\n",
       "      <td>2</td>\n",
       "      <td>31.5</td>\n",
       "      <td>127.5</td>\n",
       "      <td>-0.476310</td>\n",
       "      <td>0.0</td>\n",
       "    </tr>\n",
       "    <tr>\n",
       "      <th>2</th>\n",
       "      <td>3</td>\n",
       "      <td>31.5</td>\n",
       "      <td>127.5</td>\n",
       "      <td>-3.831912</td>\n",
       "      <td>1.0</td>\n",
       "    </tr>\n",
       "    <tr>\n",
       "      <th>3</th>\n",
       "      <td>4</td>\n",
       "      <td>31.5</td>\n",
       "      <td>127.5</td>\n",
       "      <td>-0.359001</td>\n",
       "      <td>0.0</td>\n",
       "    </tr>\n",
       "    <tr>\n",
       "      <th>4</th>\n",
       "      <td>5</td>\n",
       "      <td>31.5</td>\n",
       "      <td>127.5</td>\n",
       "      <td>-2.100669</td>\n",
       "      <td>2.0</td>\n",
       "    </tr>\n",
       "  </tbody>\n",
       "</table>\n",
       "</div>"
      ],
      "text/plain": [
       "   trial number  sensor position  sample num  sensor value  matching condition\n",
       "0             0             31.5       127.5     -0.783420                 0.0\n",
       "1             2             31.5       127.5     -0.476310                 0.0\n",
       "2             3             31.5       127.5     -3.831912                 1.0\n",
       "3             4             31.5       127.5     -0.359001                 0.0\n",
       "4             5             31.5       127.5     -2.100669                 2.0"
      ]
     },
     "execution_count": 61,
     "metadata": {},
     "output_type": "execute_result"
    }
   ],
   "source": [
    "x.head()"
   ]
  },
  {
   "cell_type": "code",
   "execution_count": 62,
   "metadata": {},
   "outputs": [
    {
     "data": {
      "text/plain": [
       "0    1.0\n",
       "1    0.0\n",
       "2    1.0\n",
       "3    0.0\n",
       "4    1.0\n",
       "Name: subject identifier, dtype: float64"
      ]
     },
     "execution_count": 62,
     "metadata": {},
     "output_type": "execute_result"
    }
   ],
   "source": [
    "y.head()"
   ]
  },
  {
   "cell_type": "code",
   "execution_count": 63,
   "metadata": {},
   "outputs": [
    {
     "data": {
      "text/html": [
       "<div>\n",
       "<style scoped>\n",
       "    .dataframe tbody tr th:only-of-type {\n",
       "        vertical-align: middle;\n",
       "    }\n",
       "\n",
       "    .dataframe tbody tr th {\n",
       "        vertical-align: top;\n",
       "    }\n",
       "\n",
       "    .dataframe thead th {\n",
       "        text-align: right;\n",
       "    }\n",
       "</style>\n",
       "<table border=\"1\" class=\"dataframe\">\n",
       "  <thead>\n",
       "    <tr style=\"text-align: right;\">\n",
       "      <th></th>\n",
       "      <th>trial number</th>\n",
       "      <th>sensor position</th>\n",
       "      <th>sample num</th>\n",
       "      <th>sensor value</th>\n",
       "      <th>matching condition</th>\n",
       "    </tr>\n",
       "  </thead>\n",
       "  <tbody>\n",
       "    <tr>\n",
       "      <th>count</th>\n",
       "      <td>62.000000</td>\n",
       "      <td>62.0</td>\n",
       "      <td>62.0</td>\n",
       "      <td>62.000000</td>\n",
       "      <td>62.000000</td>\n",
       "    </tr>\n",
       "    <tr>\n",
       "      <th>mean</th>\n",
       "      <td>37.661290</td>\n",
       "      <td>31.5</td>\n",
       "      <td>127.5</td>\n",
       "      <td>-2.231192</td>\n",
       "      <td>1.064516</td>\n",
       "    </tr>\n",
       "    <tr>\n",
       "      <th>std</th>\n",
       "      <td>26.946178</td>\n",
       "      <td>0.0</td>\n",
       "      <td>0.0</td>\n",
       "      <td>1.828379</td>\n",
       "      <td>0.827221</td>\n",
       "    </tr>\n",
       "    <tr>\n",
       "      <th>min</th>\n",
       "      <td>0.000000</td>\n",
       "      <td>31.5</td>\n",
       "      <td>127.5</td>\n",
       "      <td>-6.434309</td>\n",
       "      <td>0.000000</td>\n",
       "    </tr>\n",
       "    <tr>\n",
       "      <th>25%</th>\n",
       "      <td>16.250000</td>\n",
       "      <td>31.5</td>\n",
       "      <td>127.5</td>\n",
       "      <td>-3.503602</td>\n",
       "      <td>0.000000</td>\n",
       "    </tr>\n",
       "    <tr>\n",
       "      <th>50%</th>\n",
       "      <td>31.500000</td>\n",
       "      <td>31.5</td>\n",
       "      <td>127.5</td>\n",
       "      <td>-2.366529</td>\n",
       "      <td>1.000000</td>\n",
       "    </tr>\n",
       "    <tr>\n",
       "      <th>75%</th>\n",
       "      <td>56.500000</td>\n",
       "      <td>31.5</td>\n",
       "      <td>127.5</td>\n",
       "      <td>-0.974976</td>\n",
       "      <td>2.000000</td>\n",
       "    </tr>\n",
       "    <tr>\n",
       "      <th>max</th>\n",
       "      <td>107.000000</td>\n",
       "      <td>31.5</td>\n",
       "      <td>127.5</td>\n",
       "      <td>3.012096</td>\n",
       "      <td>2.000000</td>\n",
       "    </tr>\n",
       "  </tbody>\n",
       "</table>\n",
       "</div>"
      ],
      "text/plain": [
       "       trial number  sensor position  sample num  sensor value  \\\n",
       "count     62.000000             62.0        62.0     62.000000   \n",
       "mean      37.661290             31.5       127.5     -2.231192   \n",
       "std       26.946178              0.0         0.0      1.828379   \n",
       "min        0.000000             31.5       127.5     -6.434309   \n",
       "25%       16.250000             31.5       127.5     -3.503602   \n",
       "50%       31.500000             31.5       127.5     -2.366529   \n",
       "75%       56.500000             31.5       127.5     -0.974976   \n",
       "max      107.000000             31.5       127.5      3.012096   \n",
       "\n",
       "       matching condition  \n",
       "count           62.000000  \n",
       "mean             1.064516  \n",
       "std              0.827221  \n",
       "min              0.000000  \n",
       "25%              0.000000  \n",
       "50%              1.000000  \n",
       "75%              2.000000  \n",
       "max              2.000000  "
      ]
     },
     "execution_count": 63,
     "metadata": {},
     "output_type": "execute_result"
    }
   ],
   "source": [
    "x.describe()"
   ]
  },
  {
   "cell_type": "code",
   "execution_count": 64,
   "metadata": {},
   "outputs": [],
   "source": [
    "from sklearn import preprocessing\n",
    "from sklearn.model_selection import cross_val_score"
   ]
  },
  {
   "cell_type": "code",
   "execution_count": 65,
   "metadata": {},
   "outputs": [],
   "source": [
    "from sklearn.model_selection import KFold\n",
    "from sklearn import model_selection"
   ]
  },
  {
   "cell_type": "markdown",
   "metadata": {},
   "source": [
    "### LOGISTIC REGRESSION\n",
    "#### Logistic Regression is used when the dependent variable(target) is categorical."
   ]
  },
  {
   "cell_type": "code",
   "execution_count": 167,
   "metadata": {},
   "outputs": [],
   "source": [
    "from sklearn.linear_model import LogisticRegression\n",
    "lr = LogisticRegression()"
   ]
  },
  {
   "cell_type": "code",
   "execution_count": 91,
   "metadata": {},
   "outputs": [
    {
     "data": {
      "text/plain": [
       "0.6474358974358975"
      ]
     },
     "execution_count": 91,
     "metadata": {},
     "output_type": "execute_result"
    }
   ],
   "source": [
    "# on training data\n",
    "lr_score=cross_val_score(lr, x, y, cv=5)\n",
    "lr_score.mean()\n"
   ]
  },
  {
   "cell_type": "code",
   "execution_count": 92,
   "metadata": {},
   "outputs": [
    {
     "data": {
      "text/plain": [
       "0.7234432234432233"
      ]
     },
     "execution_count": 92,
     "metadata": {},
     "output_type": "execute_result"
    }
   ],
   "source": [
    "# on testing data\n",
    "lr_score1=cross_val_score(lr,test_data,test_target,cv=5)\n",
    "lr_score1.mean()\n"
   ]
  },
  {
   "cell_type": "markdown",
   "metadata": {},
   "source": [
    "### NAIVE BAYES CLASSIFIER MODEL\n",
    "#### Naive Bayes algorithm based on Bayes’ theorem with the assumption of independence between every pair of features. Naive Bayes classifiers work well in many real-world situations such as document classification and spam filtering"
   ]
  },
  {
   "cell_type": "code",
   "execution_count": 93,
   "metadata": {},
   "outputs": [
    {
     "data": {
      "text/plain": [
       "0.7012820512820513"
      ]
     },
     "execution_count": 93,
     "metadata": {},
     "output_type": "execute_result"
    }
   ],
   "source": [
    "from sklearn.naive_bayes import GaussianNB\n",
    "nb=GaussianNB()\n",
    "# on training data\n",
    "nb_score=cross_val_score(nb, x, y, cv=5)\n",
    "nb_score.mean()"
   ]
  },
  {
   "cell_type": "code",
   "execution_count": 94,
   "metadata": {},
   "outputs": [
    {
     "data": {
      "text/plain": [
       "0.7157509157509157"
      ]
     },
     "execution_count": 94,
     "metadata": {},
     "output_type": "execute_result"
    }
   ],
   "source": [
    "# on testing data\n",
    "nb_score1=cross_val_score(nb, test_data,test_target, cv=5)\n",
    "nb_score1.mean()"
   ]
  },
  {
   "cell_type": "markdown",
   "metadata": {},
   "source": [
    "### RANDOM FOREST CLASSIFIER\n",
    "#### Random forest classifier is a meta-estimator that fits a number of decision trees on various sub-samples of datasets and uses average to improve the predictive accuracy of the model and controls over-fitting. The sub-sample size is always the same as the original input sample size but the samples are drawn with replacement."
   ]
  },
  {
   "cell_type": "code",
   "execution_count": 95,
   "metadata": {},
   "outputs": [
    {
     "data": {
      "text/plain": [
       "0.5987179487179487"
      ]
     },
     "execution_count": 95,
     "metadata": {},
     "output_type": "execute_result"
    }
   ],
   "source": [
    "from sklearn.ensemble import RandomForestClassifier\n",
    "rf = RandomForestClassifier()\n",
    "# on training data\n",
    "rf_score=cross_val_score(rf, x, y, cv=5)\n",
    "rf_score.mean()"
   ]
  },
  {
   "cell_type": "code",
   "execution_count": 96,
   "metadata": {},
   "outputs": [
    {
     "data": {
      "text/plain": [
       "0.563003663003663"
      ]
     },
     "execution_count": 96,
     "metadata": {},
     "output_type": "execute_result"
    }
   ],
   "source": [
    "# on testing data\n",
    "rf_score1=cross_val_score(rf, test_data,test_target, cv=5)\n",
    "rf_score1.mean()"
   ]
  },
  {
   "cell_type": "markdown",
   "metadata": {},
   "source": [
    "### SUPPORT VECTOR MACHINE\n",
    "#### The objective of the support vector machine algorithm is to find a hyperplane in an N-dimensional space(N — the number of features) that distinctly classifies the data points."
   ]
  },
  {
   "cell_type": "code",
   "execution_count": 97,
   "metadata": {},
   "outputs": [
    {
     "data": {
      "text/plain": [
       "0.5038461538461538"
      ]
     },
     "execution_count": 97,
     "metadata": {},
     "output_type": "execute_result"
    }
   ],
   "source": [
    "from sklearn.svm import SVC\n",
    "svc=SVC()\n",
    "# on training data\n",
    "svc_score=cross_val_score(svc, x, y, cv=5)\n",
    "svc_score.mean()"
   ]
  },
  {
   "cell_type": "code",
   "execution_count": 98,
   "metadata": {},
   "outputs": [
    {
     "data": {
      "text/plain": [
       "0.6366300366300366"
      ]
     },
     "execution_count": 98,
     "metadata": {},
     "output_type": "execute_result"
    }
   ],
   "source": [
    "# on testing data\n",
    "svc_score1=cross_val_score(svc, test_data,test_target, cv=5)\n",
    "svc_score1.mean()"
   ]
  },
  {
   "cell_type": "markdown",
   "metadata": {},
   "source": [
    "### K NEIGHBORS CLASSIFIER MODEL\n",
    "#### Neighbours based classification is a type of lazy learning as it does not attempt to construct a general internal model, but simply stores instances of the training data. Classification is computed from a simple majority vote of the k nearest neighbours of each point"
   ]
  },
  {
   "cell_type": "code",
   "execution_count": 99,
   "metadata": {},
   "outputs": [
    {
     "data": {
      "text/plain": [
       "0.46794871794871795"
      ]
     },
     "execution_count": 99,
     "metadata": {},
     "output_type": "execute_result"
    }
   ],
   "source": [
    "from sklearn.neighbors import KNeighborsClassifier\n",
    "KN_classifier = KNeighborsClassifier()\n",
    "# on training data\n",
    "kn_score=cross_val_score(KN_classifier, x, y, cv=5)\n",
    "kn_score.mean()"
   ]
  },
  {
   "cell_type": "code",
   "execution_count": 100,
   "metadata": {},
   "outputs": [
    {
     "data": {
      "text/plain": [
       "0.6663003663003663"
      ]
     },
     "execution_count": 100,
     "metadata": {},
     "output_type": "execute_result"
    }
   ],
   "source": [
    "# on testing data\n",
    "kn_score1=cross_val_score(KN_classifier, test_data,test_target, cv=5)\n",
    "kn_score1.mean()"
   ]
  },
  {
   "cell_type": "markdown",
   "metadata": {},
   "source": [
    "#### PREDICTING VALUES FOR TRAINING AND TEST DATASET"
   ]
  },
  {
   "cell_type": "code",
   "execution_count": 101,
   "metadata": {},
   "outputs": [],
   "source": [
    "from sklearn.model_selection import cross_val_predict"
   ]
  },
  {
   "cell_type": "code",
   "execution_count": 102,
   "metadata": {},
   "outputs": [],
   "source": [
    "y_pred_lr = cross_val_predict(lr, x, y, cv=5)\n",
    "y_pred_nb = cross_val_predict(nb, x, y, cv=5)\n",
    "y_pred_rf = cross_val_predict(rf, x, y, cv=5)\n",
    "y_pred_svc = cross_val_predict(svc, x, y, cv=5)\n",
    "y_pred_kn = cross_val_predict(KN_classifier, x, y, cv=5)"
   ]
  },
  {
   "cell_type": "code",
   "execution_count": 103,
   "metadata": {},
   "outputs": [],
   "source": [
    "y_pred_test_lr = cross_val_predict(lr, test_data,test_target, cv=5)\n",
    "y_pred_test_nb = cross_val_predict(nb,test_data,test_target, cv=5)\n",
    "y_pred_test_rf = cross_val_predict(rf,test_data, test_target, cv=5)\n",
    "y_pred_test_svc = cross_val_predict(svc,test_data,test_target, cv=5)\n",
    "y_pred_test_kn = cross_val_predict(KN_classifier,test_data,test_target, cv=5)"
   ]
  },
  {
   "cell_type": "code",
   "execution_count": 105,
   "metadata": {},
   "outputs": [],
   "source": [
    "from sklearn.metrics import classification_report, confusion_matrix"
   ]
  },
  {
   "cell_type": "code",
   "execution_count": 106,
   "metadata": {},
   "outputs": [
    {
     "name": "stdout",
     "output_type": "stream",
     "text": [
      "[[21  6]\n",
      " [13 22]]\n"
     ]
    },
    {
     "data": {
      "text/plain": [
       "<matplotlib.axes._subplots.AxesSubplot at 0x27680b0ea90>"
      ]
     },
     "execution_count": 106,
     "metadata": {},
     "output_type": "execute_result"
    },
    {
     "data": {
      "image/png": "[encoded data removed]",
      "text/plain": [
       "<Figure size 432x288 with 2 Axes>"
      ]
     },
     "metadata": {
      "needs_background": "light"
     },
     "output_type": "display_data"
    }
   ],
   "source": [
    "cm_nb = confusion_matrix(y, y_pred_nb)\n",
    "print(cm_nb)\n",
    "sns.heatmap(cm_nb, annot=True)"
   ]
  },
  {
   "cell_type": "code",
   "execution_count": 107,
   "metadata": {},
   "outputs": [
    {
     "name": "stdout",
     "output_type": "stream",
     "text": [
      "              precision    recall  f1-score   support\n",
      "\n",
      "         0.0       0.62      0.78      0.69        27\n",
      "         1.0       0.79      0.63      0.70        35\n",
      "\n",
      "    accuracy                           0.69        62\n",
      "   macro avg       0.70      0.70      0.69        62\n",
      "weighted avg       0.71      0.69      0.69        62\n",
      "\n"
     ]
    }
   ],
   "source": [
    "print(classification_report(y, y_pred_nb))"
   ]
  },
  {
   "cell_type": "code",
   "execution_count": 110,
   "metadata": {},
   "outputs": [
    {
     "name": "stdout",
     "output_type": "stream",
     "text": [
      "[[16  8]\n",
      " [11 31]]\n"
     ]
    },
    {
     "data": {
      "text/plain": [
       "<matplotlib.axes._subplots.AxesSubplot at 0x27680e73048>"
      ]
     },
     "execution_count": 110,
     "metadata": {},
     "output_type": "execute_result"
    },
    {
     "data": {
      "image/png": "[encoded data removed]",
      "text/plain": [
       "<Figure size 432x288 with 2 Axes>"
      ]
     },
     "metadata": {
      "needs_background": "light"
     },
     "output_type": "display_data"
    }
   ],
   "source": [
    "cm_nb_test = confusion_matrix(test_target, y_pred_test_nb)\n",
    "print(cm_nb_test)\n",
    "sns.heatmap(cm_nb_test, annot=True)"
   ]
  },
  {
   "cell_type": "code",
   "execution_count": 111,
   "metadata": {},
   "outputs": [
    {
     "name": "stdout",
     "output_type": "stream",
     "text": [
      "              precision    recall  f1-score   support\n",
      "\n",
      "         0.0       0.59      0.67      0.63        24\n",
      "         1.0       0.79      0.74      0.77        42\n",
      "\n",
      "    accuracy                           0.71        66\n",
      "   macro avg       0.69      0.70      0.70        66\n",
      "weighted avg       0.72      0.71      0.72        66\n",
      "\n"
     ]
    }
   ],
   "source": [
    "print(classification_report(test_target, y_pred_test_nb))"
   ]
  },
  {
   "cell_type": "code",
   "execution_count": 112,
   "metadata": {},
   "outputs": [
    {
     "name": "stdout",
     "output_type": "stream",
     "text": [
      "[[14 13]\n",
      " [18 17]]\n"
     ]
    },
    {
     "data": {
      "text/plain": [
       "<matplotlib.axes._subplots.AxesSubplot at 0x27680f4be10>"
      ]
     },
     "execution_count": 112,
     "metadata": {},
     "output_type": "execute_result"
    },
    {
     "data": {
      "image/png": "[encoded data removed]",
      "text/plain": [
       "<Figure size 432x288 with 2 Axes>"
      ]
     },
     "metadata": {
      "needs_background": "light"
     },
     "output_type": "display_data"
    }
   ],
   "source": [
    "cm_rf = confusion_matrix(y, y_pred_rf)\n",
    "print(cm_rf)\n",
    "sns.heatmap(cm_rf, annot=True)"
   ]
  },
  {
   "cell_type": "code",
   "execution_count": 113,
   "metadata": {},
   "outputs": [
    {
     "name": "stdout",
     "output_type": "stream",
     "text": [
      "              precision    recall  f1-score   support\n",
      "\n",
      "         0.0       0.44      0.52      0.47        27\n",
      "         1.0       0.57      0.49      0.52        35\n",
      "\n",
      "    accuracy                           0.50        62\n",
      "   macro avg       0.50      0.50      0.50        62\n",
      "weighted avg       0.51      0.50      0.50        62\n",
      "\n"
     ]
    }
   ],
   "source": [
    "print(classification_report(y, y_pred_rf))"
   ]
  },
  {
   "cell_type": "code",
   "execution_count": 114,
   "metadata": {},
   "outputs": [
    {
     "name": "stdout",
     "output_type": "stream",
     "text": [
      "[[11 13]\n",
      " [20 22]]\n"
     ]
    },
    {
     "data": {
      "text/plain": [
       "<matplotlib.axes._subplots.AxesSubplot at 0x27680fc6e80>"
      ]
     },
     "execution_count": 114,
     "metadata": {},
     "output_type": "execute_result"
    },
    {
     "data": {
      "image/png": "[encoded data removed]",
      "text/plain": [
       "<Figure size 432x288 with 2 Axes>"
      ]
     },
     "metadata": {
      "needs_background": "light"
     },
     "output_type": "display_data"
    }
   ],
   "source": [
    "cm_rf_test = confusion_matrix(test_target, y_pred_test_rf)\n",
    "print(cm_rf_test)\n",
    "sns.heatmap(cm_rf_test, annot=True)"
   ]
  },
  {
   "cell_type": "code",
   "execution_count": 115,
   "metadata": {},
   "outputs": [
    {
     "name": "stdout",
     "output_type": "stream",
     "text": [
      "              precision    recall  f1-score   support\n",
      "\n",
      "         0.0       0.35      0.46      0.40        24\n",
      "         1.0       0.63      0.52      0.57        42\n",
      "\n",
      "    accuracy                           0.50        66\n",
      "   macro avg       0.49      0.49      0.49        66\n",
      "weighted avg       0.53      0.50      0.51        66\n",
      "\n"
     ]
    }
   ],
   "source": [
    "print(classification_report(test_target, y_pred_test_rf))"
   ]
  },
  {
   "cell_type": "code",
   "execution_count": 116,
   "metadata": {},
   "outputs": [
    {
     "name": "stdout",
     "output_type": "stream",
     "text": [
      "[[16 11]\n",
      " [11 24]]\n"
     ]
    },
    {
     "data": {
      "text/plain": [
       "<matplotlib.axes._subplots.AxesSubplot at 0x276810609b0>"
      ]
     },
     "execution_count": 116,
     "metadata": {},
     "output_type": "execute_result"
    },
    {
     "data": {
      "image/png": "[encoded data removed]",
      "text/plain": [
       "<Figure size 432x288 with 2 Axes>"
      ]
     },
     "metadata": {
      "needs_background": "light"
     },
     "output_type": "display_data"
    }
   ],
   "source": [
    "cm_lr = confusion_matrix(y, y_pred_lr)\n",
    "print(cm_lr)\n",
    "sns.heatmap(cm_lr, annot=True)"
   ]
  },
  {
   "cell_type": "code",
   "execution_count": 117,
   "metadata": {},
   "outputs": [
    {
     "name": "stdout",
     "output_type": "stream",
     "text": [
      "              precision    recall  f1-score   support\n",
      "\n",
      "         0.0       0.59      0.59      0.59        27\n",
      "         1.0       0.69      0.69      0.69        35\n",
      "\n",
      "    accuracy                           0.65        62\n",
      "   macro avg       0.64      0.64      0.64        62\n",
      "weighted avg       0.65      0.65      0.65        62\n",
      "\n"
     ]
    }
   ],
   "source": [
    "print(classification_report(y, y_pred_lr))"
   ]
  },
  {
   "cell_type": "code",
   "execution_count": 118,
   "metadata": {},
   "outputs": [
    {
     "name": "stdout",
     "output_type": "stream",
     "text": [
      "[[ 9 15]\n",
      " [ 3 39]]\n"
     ]
    },
    {
     "data": {
      "text/plain": [
       "<matplotlib.axes._subplots.AxesSubplot at 0x276810f92b0>"
      ]
     },
     "execution_count": 118,
     "metadata": {},
     "output_type": "execute_result"
    },
    {
     "data": {
      "image/png": "[encoded data removed]",
      "text/plain": [
       "<Figure size 432x288 with 2 Axes>"
      ]
     },
     "metadata": {
      "needs_background": "light"
     },
     "output_type": "display_data"
    }
   ],
   "source": [
    "cm_lr_test = confusion_matrix(test_target, y_pred_test_lr)\n",
    "print(cm_lr_test)\n",
    "sns.heatmap(cm_lr_test, annot=True)"
   ]
  },
  {
   "cell_type": "code",
   "execution_count": 119,
   "metadata": {},
   "outputs": [
    {
     "name": "stdout",
     "output_type": "stream",
     "text": [
      "              precision    recall  f1-score   support\n",
      "\n",
      "         0.0       0.75      0.38      0.50        24\n",
      "         1.0       0.72      0.93      0.81        42\n",
      "\n",
      "    accuracy                           0.73        66\n",
      "   macro avg       0.74      0.65      0.66        66\n",
      "weighted avg       0.73      0.73      0.70        66\n",
      "\n"
     ]
    }
   ],
   "source": [
    "print(classification_report(test_target, y_pred_test_lr))"
   ]
  },
  {
   "cell_type": "code",
   "execution_count": 120,
   "metadata": {},
   "outputs": [
    {
     "name": "stdout",
     "output_type": "stream",
     "text": [
      "[[ 5 22]\n",
      " [ 9 26]]\n"
     ]
    },
    {
     "data": {
      "text/plain": [
       "<matplotlib.axes._subplots.AxesSubplot at 0x276811920f0>"
      ]
     },
     "execution_count": 120,
     "metadata": {},
     "output_type": "execute_result"
    },
    {
     "data": {
      "image/png": "[encoded data removed]",
      "text/plain": [
       "<Figure size 432x288 with 2 Axes>"
      ]
     },
     "metadata": {
      "needs_background": "light"
     },
     "output_type": "display_data"
    }
   ],
   "source": [
    "cm_svc = confusion_matrix(y, y_pred_svc)\n",
    "print(cm_svc)\n",
    "sns.heatmap(cm_svc, annot=True)"
   ]
  },
  {
   "cell_type": "code",
   "execution_count": 121,
   "metadata": {},
   "outputs": [
    {
     "name": "stdout",
     "output_type": "stream",
     "text": [
      "              precision    recall  f1-score   support\n",
      "\n",
      "         0.0       0.36      0.19      0.24        27\n",
      "         1.0       0.54      0.74      0.63        35\n",
      "\n",
      "    accuracy                           0.50        62\n",
      "   macro avg       0.45      0.46      0.44        62\n",
      "weighted avg       0.46      0.50      0.46        62\n",
      "\n"
     ]
    }
   ],
   "source": [
    "print(classification_report(y, y_pred_svc))"
   ]
  },
  {
   "cell_type": "code",
   "execution_count": 122,
   "metadata": {},
   "outputs": [
    {
     "name": "stdout",
     "output_type": "stream",
     "text": [
      "[[ 0 24]\n",
      " [ 0 42]]\n"
     ]
    },
    {
     "data": {
      "text/plain": [
       "<matplotlib.axes._subplots.AxesSubplot at 0x27681222908>"
      ]
     },
     "execution_count": 122,
     "metadata": {},
     "output_type": "execute_result"
    },
    {
     "data": {
      "image/png": "[encoded data removed]",
      "text/plain": [
       "<Figure size 432x288 with 2 Axes>"
      ]
     },
     "metadata": {
      "needs_background": "light"
     },
     "output_type": "display_data"
    }
   ],
   "source": [
    "cm_svc_test = confusion_matrix(test_target, y_pred_test_svc)\n",
    "print(cm_svc_test)\n",
    "sns.heatmap(cm_svc_test, annot=True)"
   ]
  },
  {
   "cell_type": "code",
   "execution_count": 123,
   "metadata": {},
   "outputs": [
    {
     "name": "stderr",
     "output_type": "stream",
     "text": [
      "C:\\Users\\Dell\\Anaconda3\\lib\\site-packages\\sklearn\\metrics\\classification.py:1437: UndefinedMetricWarning: Precision and F-score are ill-defined and being set to 0.0 in labels with no predicted samples.\n",
      "  'precision', 'predicted', average, warn_for)\n"
     ]
    },
    {
     "name": "stdout",
     "output_type": "stream",
     "text": [
      "              precision    recall  f1-score   support\n",
      "\n",
      "         0.0       0.00      0.00      0.00        24\n",
      "         1.0       0.64      1.00      0.78        42\n",
      "\n",
      "    accuracy                           0.64        66\n",
      "   macro avg       0.32      0.50      0.39        66\n",
      "weighted avg       0.40      0.64      0.49        66\n",
      "\n"
     ]
    }
   ],
   "source": [
    "print(classification_report(test_target, y_pred_test_svc))"
   ]
  },
  {
   "cell_type": "code",
   "execution_count": 124,
   "metadata": {},
   "outputs": [
    {
     "name": "stdout",
     "output_type": "stream",
     "text": [
      "[[14 13]\n",
      " [20 15]]\n"
     ]
    },
    {
     "data": {
      "text/plain": [
       "<matplotlib.axes._subplots.AxesSubplot at 0x2768229f278>"
      ]
     },
     "execution_count": 124,
     "metadata": {},
     "output_type": "execute_result"
    },
    {
     "data": {
      "image/png": "[encoded data removed]",
      "text/plain": [
       "<Figure size 432x288 with 2 Axes>"
      ]
     },
     "metadata": {
      "needs_background": "light"
     },
     "output_type": "display_data"
    }
   ],
   "source": [
    "cm_kn = confusion_matrix(y, y_pred_kn)\n",
    "print(cm_kn)\n",
    "sns.heatmap(cm_kn, annot=True)"
   ]
  },
  {
   "cell_type": "code",
   "execution_count": 125,
   "metadata": {},
   "outputs": [
    {
     "name": "stdout",
     "output_type": "stream",
     "text": [
      "              precision    recall  f1-score   support\n",
      "\n",
      "         0.0       0.41      0.52      0.46        27\n",
      "         1.0       0.54      0.43      0.48        35\n",
      "\n",
      "    accuracy                           0.47        62\n",
      "   macro avg       0.47      0.47      0.47        62\n",
      "weighted avg       0.48      0.47      0.47        62\n",
      "\n"
     ]
    }
   ],
   "source": [
    "print(classification_report(y, y_pred_kn))"
   ]
  },
  {
   "cell_type": "code",
   "execution_count": 126,
   "metadata": {},
   "outputs": [
    {
     "name": "stdout",
     "output_type": "stream",
     "text": [
      "[[17  7]\n",
      " [15 27]]\n"
     ]
    },
    {
     "data": {
      "text/plain": [
       "<matplotlib.axes._subplots.AxesSubplot at 0x2768232cb00>"
      ]
     },
     "execution_count": 126,
     "metadata": {},
     "output_type": "execute_result"
    },
    {
     "data": {
      "image/png": "[encoded data removed]",
      "text/plain": [
       "<Figure size 432x288 with 2 Axes>"
      ]
     },
     "metadata": {
      "needs_background": "light"
     },
     "output_type": "display_data"
    }
   ],
   "source": [
    "cm_kn_test = confusion_matrix(test_target, y_pred_test_kn)\n",
    "print(cm_kn_test)\n",
    "sns.heatmap(cm_kn_test, annot=True)"
   ]
  },
  {
   "cell_type": "code",
   "execution_count": 146,
   "metadata": {},
   "outputs": [
    {
     "name": "stdout",
     "output_type": "stream",
     "text": [
      "              precision    recall  f1-score   support\n",
      "\n",
      "         0.0       0.53      0.71      0.61        24\n",
      "         1.0       0.79      0.64      0.71        42\n",
      "\n",
      "    accuracy                           0.67        66\n",
      "   macro avg       0.66      0.68      0.66        66\n",
      "weighted avg       0.70      0.67      0.67        66\n",
      "\n"
     ]
    }
   ],
   "source": [
    "print(classification_report(test_target, y_pred_test_kn))"
   ]
  },
  {
   "cell_type": "markdown",
   "metadata": {},
   "source": [
    "### COMPARING ACCURACIES FROM BOTH THE DATASETS"
   ]
  },
  {
   "cell_type": "code",
   "execution_count": 157,
   "metadata": {},
   "outputs": [],
   "source": [
    "Score = [[0,1,2,3,4],[0,1,2,3,4]]"
   ]
  },
  {
   "cell_type": "code",
   "execution_count": 159,
   "metadata": {},
   "outputs": [],
   "source": [
    "Score[0][0]=kn_score.mean() #training accuracy\n",
    "Score[1][0]=kn_score1.mean() \n",
    "\n",
    "Score[0][1]=lr_score.mean() #training accuracy\n",
    "Score[1][1]=lr_score1.mean() \n",
    "\n",
    "Score[0][2]=nb_score.mean() #training accuracy\n",
    "Score[1][2]=nb_score1.mean()\n",
    "\n",
    "Score[0][3]=svc_score.mean() #training accuracy\n",
    "Score[1][3]=svc_score1.mean()\n",
    "\n",
    "Score[0][4]=rf_score.mean() #training accuracy\n",
    "Score[1][4]=rf_score1.mean()"
   ]
  },
  {
   "cell_type": "code",
   "execution_count": 160,
   "metadata": {
    "scrolled": true
   },
   "outputs": [
    {
     "data": {
      "image/png": "[encoded data removed]",
      "text/plain": [
       "<Figure size 720x360 with 1 Axes>"
      ]
     },
     "metadata": {
      "needs_background": "light"
     },
     "output_type": "display_data"
    }
   ],
   "source": [
    "x=np.arange(5)\n",
    "plt.figure(figsize=(10,5))\n",
    "plt.bar(x+0.00,Score[0],width=0.20,color='gray',label='Training Accuracy')\n",
    "plt.bar(x+0.40,Score[1],width=0.20,color='r',label='Testing Accuracy')\n",
    "plt.xticks([0.30,1.3,2.3,3.3,4.3],['KNeighborsClassifier','Logistic Regression','Naive Bayes Classifier','Support Vector Classifier','Random Forest Classifier','SGD Classifier'])\n",
    "plt.legend(fontsize=15,loc=(1.0,0.5))\n",
    "plt.show()"
   ]
  },
  {
   "cell_type": "code",
   "execution_count": null,
   "metadata": {},
   "outputs": [],
   "source": []
  }
 ],
 "metadata": {
  "kernelspec": {
   "display_name": "Python 3",
   "language": "python",
   "name": "python3"
  },
  "language_info": {
   "codemirror_mode": {
    "name": "ipython",
    "version": 3
   },
   "file_extension": ".py",
   "mimetype": "text/x-python",
   "name": "python",
   "nbconvert_exporter": "python",
   "pygments_lexer": "ipython3",
   "version": "3.7.3"
  }
 },
 "nbformat": 4,
 "nbformat_minor": 2
}
